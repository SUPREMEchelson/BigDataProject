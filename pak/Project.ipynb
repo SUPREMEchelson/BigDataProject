{
 "cells": [
  {
   "cell_type": "code",
   "execution_count": 1,
   "metadata": {},
   "outputs": [
    {
     "name": "stderr",
     "output_type": "stream",
     "text": [
      "22/11/16 16:18:25 WARN NativeCodeLoader: Unable to load native-hadoop library for your platform... using builtin-java classes where applicable\n",
      "Using Spark's default log4j profile: org/apache/spark/log4j-defaults.properties\n",
      "Setting default log level to \"WARN\".\n",
      "To adjust logging level use sc.setLogLevel(newLevel). For SparkR, use setLogLevel(newLevel).\n"
     ]
    }
   ],
   "source": [
    "import pyspark\n",
    "\n",
    "from pyspark.sql import SparkSession\n",
    "import os\n",
    "#from pyspark.mllib.regression import LabeledPoint\n",
    "#from pyspark.mllib.tree import DecisionTree\n",
    "#from pyspark import SparkConf, SparkContext\n",
    "#from numpy import array\n",
    "#sans se connecter au cluster\n",
    "#spark = SparkSession.builder.getOrCreate()\n",
    "\n",
    "spark = SparkSession.\\\n",
    "        builder.\\\n",
    "        appName(\"pyspark-notebook\").\\\n",
    "        master(\"spark://spark-master:7077\").\\\n",
    "        config(\"spark.executor.memory\", \"1g\").\\\n",
    "        getOrCreate()"
   ]
  },
  {
   "cell_type": "code",
   "execution_count": 2,
   "metadata": {},
   "outputs": [],
   "source": [
    "path=\"hdfs://namenode:9000/DataFootHadoop/BallonDOr.csv\" \n",
    "\n"
   ]
  },
  {
   "cell_type": "code",
   "execution_count": 3,
   "metadata": {},
   "outputs": [
    {
     "name": "stderr",
     "output_type": "stream",
     "text": [
      "                                                                                \r"
     ]
    }
   ],
   "source": [
    "#Créer un DataFrame en utilisant une instruction qui permet de charger le fichier csv BallonDOr\n",
    "BallonDOr=spark.read.format(\"csv\").options(header=True).load(path)\n",
    "\n"
   ]
  },
  {
   "cell_type": "code",
   "execution_count": 4,
   "metadata": {},
   "outputs": [
    {
     "name": "stdout",
     "output_type": "stream",
     "text": [
      "+----+----+------------------+--------------------+------------+------+---+---+---+---+---+-----+-------+------+-------+------+\n",
      "|Year|Rank|            Player|                Club| Nationality|Points| P1| P2| P3| P4| P5|Votes|RankPts| Share|Percent| Voted|\n",
      "+----+----+------------------+--------------------+------------+------+---+---+---+---+---+-----+-------+------+-------+------+\n",
      "|1956|   1|  Stanley Matthews|           Blackpool|     England|    47|  6|  2|  2|  1|  1|   12|   50.0|0.1958| 0.5875|0.7500|\n",
      "|1956|   2|Alfredo Di Stéfano|      Real Madrid CF|       Spain|    44|  5|  3|  2|  0|  1|   11|   25.0|0.1833| 0.5500|0.6875|\n",
      "|1956|   3|      Raymond Kopa|      Real Madrid CF|      France|    33|  1|  2|  3|  5|  1|   12|   16.7|0.1375| 0.4125|0.7500|\n",
      "|1956|   4|     Ferenc Puskás|              Honvéd|     Hungary|    32|  3|  3|  1|  1|  0|    8|   12.5|0.1333| 0.4000|0.5000|\n",
      "|1956|   5|        Lev Yashin|       Dynamo Moskva|Soviet Union|    19|  0|  2|  2|  1|  3|    8|   10.0|0.0792| 0.2375|0.5000|\n",
      "|1956|   6|     József Bozsik|              Honvéd|     Hungary|    15|  0|  3|  1|  0|  0|    4|    8.3|0.0625| 0.1875|0.2500|\n",
      "|1956|   7|      Ernst Ocwirk|           Sampdoria|     Austria|     9|  0|  0|  2|  0|  3|    5|    7.1|0.0375| 0.1125|0.3125|\n",
      "|1956|   8|     Sándor Kocsis|              Honvéd|     Hungary|     6|  1|  0|  0|  0|  1|    2|    6.3|0.0250| 0.0750|0.1250|\n",
      "|1956|   9|   Thadée Cisowski|   Racing Club Paris|      France|     4|  0|  1|  0|  0|  0|    1|    5.6|0.0167| 0.0500|0.0625|\n",
      "|1956|   9|        Ivan Kolev|          CDNA Sofia|    Bulgaria|     4|  0|  0|  1|  0|  1|    2|    5.6|0.0167| 0.0500|0.1250|\n",
      "|1956|   9|      Billy Wright|Wolverhampton Wan...|     England|     4|  0|  0|  1|  0|  1|    2|    5.6|0.0167| 0.0500|0.1250|\n",
      "|1956|  12|           Julinho|          Fiorentina|       Italy|     3|  0|  0|  1|  0|  0|    1|    4.2|0.0125| 0.0375|0.0625|\n",
      "|1956|  13|    Stefan Bozhkov|          CDNA Sofia|    Bulgaria|     2|  0|  0|  0|  1|  0|    1|    3.8|0.0083| 0.0250|0.0625|\n",
      "|1956|  13|    Duncan Edwards|   Manchester United|     England|     2|  0|  0|  0|  1|  0|    1|    3.8|0.0083| 0.0250|0.0625|\n",
      "|1956|  13|   Gerhard Hanappi|          Rapid Wien|     Austria|     2|  0|  0|  0|  1|  0|    1|    3.8|0.0083| 0.0250|0.0625|\n",
      "|1956|  13|    Robert Jonquet|      Stade de Reims|      France|     2|  0|  0|  0|  1|  0|    1|    3.8|0.0083| 0.0250|0.0625|\n",
      "|1956|  13|   Miguel Montuori|          Fiorentina|       Italy|     2|  0|  0|  0|  1|  0|    1|    3.8|0.0083| 0.0250|0.0625|\n",
      "|1956|  13|           Pepillo|             Sevilla|       Spain|     2|  0|  0|  0|  1|  0|    1|    3.8|0.0083| 0.0250|0.0625|\n",
      "|1956|  13|   Juan Schiaffino|               Milan|       Italy|     2|  0|  0|  0|  1|  0|    1|    3.8|0.0083| 0.0250|0.0625|\n",
      "|1956|  13|  Eduard Streltsov|      Torpedo Moscow|Soviet Union|     2|  0|  0|  0|  1|  0|    1|    3.8|0.0083| 0.0250|0.0625|\n",
      "+----+----+------------------+--------------------+------------+------+---+---+---+---+---+-----+-------+------+-------+------+\n",
      "only showing top 20 rows\n",
      "\n"
     ]
    }
   ],
   "source": [
    "#Affichage du résultat du DataFrame BallonDOr\n",
    "BallonDOr.show()"
   ]
  },
  {
   "cell_type": "code",
   "execution_count": 5,
   "metadata": {},
   "outputs": [
    {
     "data": {
      "text/plain": [
       "DataFrame[Year: string, Rank: string, Player: string, Club: string, Nationality: string, Points: string, P1: string, P2: string, P3: string, P4: string, P5: string, Votes: string, RankPts: string, Share: string, Percent: string, Voted: string]"
      ]
     },
     "execution_count": 5,
     "metadata": {},
     "output_type": "execute_result"
    }
   ],
   "source": [
    "BallonDOr"
   ]
  },
  {
   "cell_type": "code",
   "execution_count": 6,
   "metadata": {},
   "outputs": [
    {
     "name": "stdout",
     "output_type": "stream",
     "text": [
      "root\n",
      " |-- Year: string (nullable = true)\n",
      " |-- Rank: string (nullable = true)\n",
      " |-- Player: string (nullable = true)\n",
      " |-- Club: string (nullable = true)\n",
      " |-- Nationality: string (nullable = true)\n",
      " |-- Points: string (nullable = true)\n",
      " |-- P1: string (nullable = true)\n",
      " |-- P2: string (nullable = true)\n",
      " |-- P3: string (nullable = true)\n",
      " |-- P4: string (nullable = true)\n",
      " |-- P5: string (nullable = true)\n",
      " |-- Votes: string (nullable = true)\n",
      " |-- RankPts: string (nullable = true)\n",
      " |-- Share: string (nullable = true)\n",
      " |-- Percent: string (nullable = true)\n",
      " |-- Voted: string (nullable = true)\n",
      "\n"
     ]
    }
   ],
   "source": [
    "#Schema avec arborescence du DataFrame BallonDOr\n",
    "BallonDOr.printSchema()"
   ]
  },
  {
   "cell_type": "code",
   "execution_count": null,
   "metadata": {},
   "outputs": [],
   "source": []
  },
  {
   "cell_type": "code",
   "execution_count": 7,
   "metadata": {},
   "outputs": [],
   "source": [
    "#Changer le nom de la colonne Year par Season\n",
    "BallonDOr=BallonDOr.withColumnRenamed(\"Year\",\"Season\")\n",
    "BallonDOr=BallonDOr.withColumnRenamed(\"Season\",\"Year\")"
   ]
  },
  {
   "cell_type": "code",
   "execution_count": 8,
   "metadata": {},
   "outputs": [
    {
     "name": "stdout",
     "output_type": "stream",
     "text": [
      "+----+----+------------------+--------------------+------------+------+---+---+---+---+---+-----+-------+------+-------+------+\n",
      "|Year|Rank|            Player|                Club| Nationality|Points| P1| P2| P3| P4| P5|Votes|RankPts| Share|Percent| Voted|\n",
      "+----+----+------------------+--------------------+------------+------+---+---+---+---+---+-----+-------+------+-------+------+\n",
      "|1956|   1|  Stanley Matthews|           Blackpool|     England|    47|  6|  2|  2|  1|  1|   12|   50.0|0.1958| 0.5875|0.7500|\n",
      "|1956|   2|Alfredo Di Stéfano|      Real Madrid CF|       Spain|    44|  5|  3|  2|  0|  1|   11|   25.0|0.1833| 0.5500|0.6875|\n",
      "|1956|   3|      Raymond Kopa|      Real Madrid CF|      France|    33|  1|  2|  3|  5|  1|   12|   16.7|0.1375| 0.4125|0.7500|\n",
      "|1956|   4|     Ferenc Puskás|              Honvéd|     Hungary|    32|  3|  3|  1|  1|  0|    8|   12.5|0.1333| 0.4000|0.5000|\n",
      "|1956|   5|        Lev Yashin|       Dynamo Moskva|Soviet Union|    19|  0|  2|  2|  1|  3|    8|   10.0|0.0792| 0.2375|0.5000|\n",
      "|1956|   6|     József Bozsik|              Honvéd|     Hungary|    15|  0|  3|  1|  0|  0|    4|    8.3|0.0625| 0.1875|0.2500|\n",
      "|1956|   7|      Ernst Ocwirk|           Sampdoria|     Austria|     9|  0|  0|  2|  0|  3|    5|    7.1|0.0375| 0.1125|0.3125|\n",
      "|1956|   8|     Sándor Kocsis|              Honvéd|     Hungary|     6|  1|  0|  0|  0|  1|    2|    6.3|0.0250| 0.0750|0.1250|\n",
      "|1956|   9|   Thadée Cisowski|   Racing Club Paris|      France|     4|  0|  1|  0|  0|  0|    1|    5.6|0.0167| 0.0500|0.0625|\n",
      "|1956|   9|        Ivan Kolev|          CDNA Sofia|    Bulgaria|     4|  0|  0|  1|  0|  1|    2|    5.6|0.0167| 0.0500|0.1250|\n",
      "|1956|   9|      Billy Wright|Wolverhampton Wan...|     England|     4|  0|  0|  1|  0|  1|    2|    5.6|0.0167| 0.0500|0.1250|\n",
      "|1956|  12|           Julinho|          Fiorentina|       Italy|     3|  0|  0|  1|  0|  0|    1|    4.2|0.0125| 0.0375|0.0625|\n",
      "|1956|  13|    Stefan Bozhkov|          CDNA Sofia|    Bulgaria|     2|  0|  0|  0|  1|  0|    1|    3.8|0.0083| 0.0250|0.0625|\n",
      "|1956|  13|    Duncan Edwards|   Manchester United|     England|     2|  0|  0|  0|  1|  0|    1|    3.8|0.0083| 0.0250|0.0625|\n",
      "|1956|  13|   Gerhard Hanappi|          Rapid Wien|     Austria|     2|  0|  0|  0|  1|  0|    1|    3.8|0.0083| 0.0250|0.0625|\n",
      "|1956|  13|    Robert Jonquet|      Stade de Reims|      France|     2|  0|  0|  0|  1|  0|    1|    3.8|0.0083| 0.0250|0.0625|\n",
      "|1956|  13|   Miguel Montuori|          Fiorentina|       Italy|     2|  0|  0|  0|  1|  0|    1|    3.8|0.0083| 0.0250|0.0625|\n",
      "|1956|  13|           Pepillo|             Sevilla|       Spain|     2|  0|  0|  0|  1|  0|    1|    3.8|0.0083| 0.0250|0.0625|\n",
      "|1956|  13|   Juan Schiaffino|               Milan|       Italy|     2|  0|  0|  0|  1|  0|    1|    3.8|0.0083| 0.0250|0.0625|\n",
      "|1956|  13|  Eduard Streltsov|      Torpedo Moscow|Soviet Union|     2|  0|  0|  0|  1|  0|    1|    3.8|0.0083| 0.0250|0.0625|\n",
      "+----+----+------------------+--------------------+------------+------+---+---+---+---+---+-----+-------+------+-------+------+\n",
      "only showing top 20 rows\n",
      "\n"
     ]
    }
   ],
   "source": [
    "BallonDOr.show()"
   ]
  },
  {
   "cell_type": "code",
   "execution_count": 10,
   "metadata": {},
   "outputs": [],
   "source": [
    "path=\"hdfs://namenode:9000/DataFootHadoop/champions_league.csv\" \n",
    "\n"
   ]
  },
  {
   "cell_type": "code",
   "execution_count": 11,
   "metadata": {},
   "outputs": [],
   "source": [
    "#Créer un DataFrame en utilisant une instruction qui permet de charger le fichier csv champions_league\n",
    "champions_league=spark.read.format(\"csv\").options(header=True).load(path)"
   ]
  },
  {
   "cell_type": "code",
   "execution_count": 12,
   "metadata": {},
   "outputs": [
    {
     "name": "stdout",
     "output_type": "stream",
     "text": [
      "+------+-----------------+--------------+------------+----------+----------------+---------+--------+--------+--------+----------+--------------+-----------------+-----------------+-----------------+-------------------+----------------+--------------------+----------+--------------------+--------------+--------------------+-----+\n",
      "|Season|           Winner|Winner Country|Winner Score|  scorer 1|        scorer 2| scorer 3|scorer 4|scorer 5|scorer 6|  scorer 7|Finalist Score|opponent scorer 1|opponent scorer 2|opponent scorer 3|           Finalist|Finalist Country|               Venue|Attendance|         Best Scorer|Country Scorer|         Club Scorer|Goals|\n",
      "+------+-----------------+--------------+------------+----------+----------------+---------+--------+--------+--------+----------+--------------+-----------------+-----------------+-----------------+-------------------+----------------+--------------------+----------+--------------------+--------------+--------------------+-----+\n",
      "|  1956|      Real Madrid|         Spain|           4|Di Stefano|            Rial|Marquitos|    Rial|    null|    null|      null|             3|          Leblond|          Templin|          Hidalgo|     Stade de Reims|          France|France Parc des P...|     38239| MiloÅ¡ MilutinoviÄ‡|    Yugoslavia|FK Partizan Belgrade|    8|\n",
      "|  1957|      Real Madrid|         Spain|           2|Di Stefano|           Gento|     null|    null|    null|    null|      null|             0|             null|             null|             null|         Fiorentina|           Italy|Spain Santiago Be...|    124000|      Dennis Viollet|       England|   Manchester United|    9|\n",
      "|  1958|      Real Madrid|         Spain|           3|Di Stefano|            Rial|    Gento|    null|    null|    null|      null|             2|       Schiaffino|           Grillo|             null|              Milan|           Italy|Belgium Heysel St...|     67000| Alfredo Di StÃ©fano|         Spain|         Real Madrid|   10|\n",
      "|  1959|      Real Madrid|         Spain|           2|    Mateos|      Di Stefano|     null|    null|    null|    null|      null|             0|             null|             null|             null|     Stade de Reims|          France|West Germany Neck...|     72000|       Just Fountain|        France|       Reims Stadium|   10|\n",
      "|  1960|      Real Madrid|         Spain|           7|Di Stefano|      Di Stefano|   Puskas|  Puskas|  Puskas|  Puskas|Di Stefano|             3|           Kreiss|            Stein|            Stein|Eintracht Frankfurt|    West Germany|Scotland Hampden ...|    127621|      Ferenc PuskÃ¡s|       Hungary|         Real Madrid|   12|\n",
      "|  1961|          Benfica|      Portugal|           3|     Aguas|Ramallets (o.g.)|   Coluna|    null|    null|    null|      null|             2|           Kocsis|           Czibor|             null|          Barcelona|           Spain|Switzerland Wankd...|     26732|        JosÃ© Ãguas|      Portugal|             Benfica|   11|\n",
      "|  1962|          Benfica|      Portugal|           5|     Aguas|           Cavem|   Coluna| Eusebio| Eusebio|    null|      null|             3|           Puskas|           Puskas|           Puskas|        Real Madrid|           Spain|Netherlands Olymp...|     61257|        Heinz Strehl|  West Germany|     1. FC Nuremberg|    8|\n",
      "|  1963|            Milan|         Italy|           2|  Altafini|        Altafini|     null|    null|    null|    null|      null|             1|          Eusebio|             null|             null|            Benfica|        Portugal|England Wembley S...|     45715|      JosÃ© Altafini|         Italy|            AC Milan|   14|\n",
      "|  1964|   Internazionale|         Italy|           3|   Mazzola|          Milani|  Mazzola|    null|    null|    null|      null|             1|             Felo|             null|             null|        Real Madrid|           Spain|Austria Prater St...|     71333|Vladimir KovaÄeviÄ‡|    Yugoslavia| FK Partizan Belg...|    7|\n",
      "|  1965|   Internazionale|         Italy|           1|      Jair|            null|     null|    null|    null|    null|      null|             0|             null|             null|             null|            Benfica|        Portugal|Italy San Siro, M...|     89000|             Eusebio|      Portugal|             Benfica|    9|\n",
      "|  1966|      Real Madrid|         Spain|           2|   Amancio|          Serena|     null|    null|    null|    null|      null|             1|          Vasovic|             null|             null|           Partizan|      Yugoslavia|Belgium Heysel St...|     46745|             Eusebio|      Portugal|             Benfica|    7|\n",
      "|  1967|           Celtic|      Scotland|           2|   Gemmell|        Chalmers|     null|    null|    null|    null|      null|             1|          Mazzola|             null|             null|     Internazionale|           Italy|Portugal EstÃ¡dio...|     45000|      Paul Van Himst|       Belgium|      RSC Anderlecht|    6|\n",
      "|  1968|Manchester United|       England|           4|  Charlton|            Best|     Kidd|Charlton|    null|    null|      null|             1|            Graca|             null|             null|            Benfica|        Portugal|England Wembley S...|     92225|             Eusebio|      Portugal|             Benfica|    6|\n",
      "|  1969|            Milan|         Italy|           3|     Prati|           Prati|  Sormani|   Prati|    null|    null|      null|             1|          Vasovic|             null|             null|               Ajax|     Netherlands|Spain Santiago Be...|     31782|          Dennis Law|      Scotland|   Manchester United|    9|\n",
      "|  1970|        Feyenoord|   Netherlands|           2|    Israel|        Kindvall|     null|    null|    null|    null|      null|             1|          Gemmell|             null|             null|             Celtic|        Scotland|Italy San Siro, M...|     53187|          Mick Jones|       England|        Leeds United|    8|\n",
      "|  1971|             Ajax|   Netherlands|           2|  van Dijk|            Haan|     null|    null|    null|    null|      null|             0|             null|             null|             null|      Panathinaikos|          Greece|England Wembley S...|     83179|  Antonis Antoniadis|        Greece|       Panathinaikos|   10|\n",
      "|  1972|             Ajax|   Netherlands|           2|    Cruyff|          Cruyff|     null|    null|    null|    null|      null|             0|             null|             null|             null|     Internazionale|           Italy|Netherlands De Ku...|     61354|    Silvester TakaÄ|    Yugoslavia|      Standard Liege|    5|\n",
      "|  1973|             Ajax|   Netherlands|           1|       Rep|            null|     null|    null|    null|    null|      null|             0|             null|             null|             null|           Juventus|           Italy|Socialist Federal...|     89484|        Gerd MÃ¼ller|  West Germany|       Bayern Munich|   11|\n",
      "|  1974|    Bayern Munich|  West Germany|           4|   Hoeness|          Muller|  Hoeness|  Muller|    null|    null|      null|             0|             null|             null|             null|   AtlÃ©tico Madrid|           Spain|Belgium Heysel St...|     72047|        Gerd MÃ¼ller|  West Germany|       Bayern Munich|    8|\n",
      "|  1975|    Bayern Munich|  West Germany|           2|      Roth|          Muller|     null|    null|    null|    null|      null|             0|             null|             null|             null|       Leeds United|         England|France Parc des P...|     48374|         Gerd Muller|  West Germany|       Bayern Munich|    5|\n",
      "+------+-----------------+--------------+------------+----------+----------------+---------+--------+--------+--------+----------+--------------+-----------------+-----------------+-----------------+-------------------+----------------+--------------------+----------+--------------------+--------------+--------------------+-----+\n",
      "only showing top 20 rows\n",
      "\n"
     ]
    }
   ],
   "source": [
    "#Affichage du résultat du DataFrame champions_league\n",
    "champions_league.show()"
   ]
  },
  {
   "cell_type": "code",
   "execution_count": 13,
   "metadata": {},
   "outputs": [
    {
     "data": {
      "text/plain": [
       "DataFrame[Season: string, Winner: string, Winner Country: string, Winner Score: string, scorer 1: string, scorer 2: string, scorer 3: string, scorer 4: string, scorer 5: string, scorer 6: string, scorer 7: string, Finalist Score: string, opponent scorer 1: string, opponent scorer 2: string, opponent scorer 3: string, Finalist: string, Finalist Country: string, Venue: string, Attendance: string, Best Scorer: string, Country Scorer: string, Club Scorer: string, Goals: string]"
      ]
     },
     "execution_count": 13,
     "metadata": {},
     "output_type": "execute_result"
    }
   ],
   "source": [
    "champions_league"
   ]
  },
  {
   "cell_type": "code",
   "execution_count": 14,
   "metadata": {},
   "outputs": [
    {
     "name": "stdout",
     "output_type": "stream",
     "text": [
      "root\n",
      " |-- Season: string (nullable = true)\n",
      " |-- Winner: string (nullable = true)\n",
      " |-- Winner Country: string (nullable = true)\n",
      " |-- Winner Score: string (nullable = true)\n",
      " |-- scorer 1: string (nullable = true)\n",
      " |-- scorer 2: string (nullable = true)\n",
      " |-- scorer 3: string (nullable = true)\n",
      " |-- scorer 4: string (nullable = true)\n",
      " |-- scorer 5: string (nullable = true)\n",
      " |-- scorer 6: string (nullable = true)\n",
      " |-- scorer 7: string (nullable = true)\n",
      " |-- Finalist Score: string (nullable = true)\n",
      " |-- opponent scorer 1: string (nullable = true)\n",
      " |-- opponent scorer 2: string (nullable = true)\n",
      " |-- opponent scorer 3: string (nullable = true)\n",
      " |-- Finalist: string (nullable = true)\n",
      " |-- Finalist Country: string (nullable = true)\n",
      " |-- Venue: string (nullable = true)\n",
      " |-- Attendance: string (nullable = true)\n",
      " |-- Best Scorer: string (nullable = true)\n",
      " |-- Country Scorer: string (nullable = true)\n",
      " |-- Club Scorer: string (nullable = true)\n",
      " |-- Goals: string (nullable = true)\n",
      "\n"
     ]
    }
   ],
   "source": [
    "#Schema avec arborescence du DataFrame champions_league\n",
    "champions_league.printSchema()"
   ]
  },
  {
   "cell_type": "code",
   "execution_count": null,
   "metadata": {},
   "outputs": [],
   "source": []
  },
  {
   "cell_type": "code",
   "execution_count": 15,
   "metadata": {},
   "outputs": [
    {
     "name": "stderr",
     "output_type": "stream",
     "text": [
      "22/11/16 16:25:55 WARN package: Truncated the string representation of a plan since it was too large. This behavior can be adjusted by setting 'spark.sql.debug.maxToStringFields'.\n",
      "[Stage 7:>                                                          (0 + 1) / 1]\r"
     ]
    },
    {
     "name": "stdout",
     "output_type": "stream",
     "text": [
      "+----+----+-----------------+--------------------+--------------+------+---+---+---+---+---+-----+-------+------+-------+------+------+-----------------+--------------+------------+--------------+----------+---------+--------+--------+--------+----------+--------------+-----------------+-----------------+-----------------+--------------------+----------------+--------------------+----------+-------------------+--------------+-----------------+-----+\n",
      "|Year|Rank|           Player|                Club|   Nationality|Points| P1| P2| P3| P4| P5|Votes|RankPts| Share|Percent| Voted|Season|           Winner|Winner Country|Winner Score|      scorer 1|  scorer 2| scorer 3|scorer 4|scorer 5|scorer 6|  scorer 7|Finalist Score|opponent scorer 1|opponent scorer 2|opponent scorer 3|            Finalist|Finalist Country|               Venue|Attendance|        Best Scorer|Country Scorer|      Club Scorer|Goals|\n",
      "+----+----+-----------------+--------------------+--------------+------+---+---+---+---+---+-----+-------+------+-------+------+------+-----------------+--------------+------------+--------------+----------+---------+--------+--------+--------+----------+--------------+-----------------+-----------------+-----------------+--------------------+----------------+--------------------+----------+-------------------+--------------+-----------------+-----+\n",
      "|1956|   3|     Raymond Kopa|      Real Madrid CF|        France|    33|  1|  2|  3|  5|  1|   12|   16.7|0.1375| 0.4125|0.7500|  2008|Manchester United|       England|           1|       Ronaldo|      null|     null|    null|    null|    null|      null|             1|          Lampard|             null|             null|             Chelsea|         England|Russia Luzhniki S...|     67310|  Cristiano Ronaldo|      Portugal|Manchester United|    8|\n",
      "|1956|   3|     Raymond Kopa|      Real Madrid CF|        France|    33|  1|  2|  3|  5|  1|   12|   16.7|0.1375| 0.4125|0.7500|  2018|      Real Madrid|         Spain|           3|          null|      null|     null|    null|    null|    null|      null|             1|             null|             null|             null|        Liverpool FC|         England|Stade olympique, ...|     61561|  Cristiano Ronaldo|      Portugal|      Real Madrid|   15|\n",
      "|1956|   5|       Lev Yashin|       Dynamo Moskva|  Soviet Union|    19|  0|  2|  2|  1|  3|    8|   10.0|0.0792| 0.2375|0.5000|  1959|      Real Madrid|         Spain|           2|        Mateos|Di Stefano|     null|    null|    null|    null|      null|             0|             null|             null|             null|      Stade de Reims|          France|West Germany Neck...|     72000|      Just Fountain|        France|    Reims Stadium|   10|\n",
      "|1956|   5|       Lev Yashin|       Dynamo Moskva|  Soviet Union|    19|  0|  2|  2|  1|  3|    8|   10.0|0.0792| 0.2375|0.5000|  2005|        Liverpool|       England|           3|        Gerard|    Smicer|   Alonso|    null|    null|    null|      null|             3|          Maldini|           Crespo|           Crespo|               Milan|           Italy|Turkey AtatÃ¼rk O...|     69000|Ruud van Nistelrooy|   Netherlands|Manchester United|    8|\n",
      "|1956|   7|     Ernst Ocwirk|           Sampdoria|       Austria|     9|  0|  0|  2|  0|  3|    5|    7.1|0.0375| 0.1125|0.3125|  1970|        Feyenoord|   Netherlands|           2|        Israel|  Kindvall|     null|    null|    null|    null|      null|             1|          Gemmell|             null|             null|              Celtic|        Scotland|Italy San Siro, M...|     53187|         Mick Jones|       England|     Leeds United|    8|\n",
      "|1956|   9|       Ivan Kolev|          CDNA Sofia|      Bulgaria|     4|  0|  0|  1|  0|  1|    2|    5.6|0.0167| 0.0500|0.1250|  1958|      Real Madrid|         Spain|           3|    Di Stefano|      Rial|    Gento|    null|    null|    null|      null|             2|       Schiaffino|           Grillo|             null|               Milan|           Italy|Belgium Heysel St...|     67000|Alfredo Di StÃ©fano|         Spain|      Real Madrid|   10|\n",
      "|1956|  12|          Julinho|          Fiorentina|         Italy|     3|  0|  0|  1|  0|  0|    1|    4.2|0.0125| 0.0375|0.0625|  1975|    Bayern Munich|  West Germany|           2|          Roth|    Muller|     null|    null|    null|    null|      null|             0|             null|             null|             null|        Leeds United|         England|France Parc des P...|     48374|        Gerd Muller|  West Germany|    Bayern Munich|    5|\n",
      "|1956|  13|   Stefan Bozhkov|          CDNA Sofia|      Bulgaria|     2|  0|  0|  0|  1|  0|    1|    3.8|0.0083| 0.0250|0.0625|  2016|      Real Madrid|         Spain|           1|         Ramos|      null|     null|    null|    null|    null|      null|             1|         Carrasco|             null|             null|    AtlÃ©tico Madrid|           Spain|Italy San Siro, M...|     71942|  Cristiano Ronaldo|      Portugal|      Real Madrid|   16|\n",
      "|1956|  13|  Gerhard Hanappi|          Rapid Wien|       Austria|     2|  0|  0|  0|  1|  0|    1|    3.8|0.0083| 0.0250|0.0625|  1997|Borussia Dortmund|       Germany|           3|        Riedle|    Riedle|   Ricken|    null|    null|    null|      null|             1|        del Piero|             null|             null|            Juventus|           Italy|Germany Olympiast...|     59000|    Milinko PantiÄ‡|    Yugoslavia|  Atletico Madrid|    5|\n",
      "|1956|  13|  Gerhard Hanappi|          Rapid Wien|       Austria|     2|  0|  0|  0|  1|  0|    1|    3.8|0.0083| 0.0250|0.0625|  2002|      Real Madrid|         Spain|           2|          Raul|    Zidane|     null|    null|    null|    null|      null|             1|            Lucio|             null|             null|    Bayer Leverkusen|         Germany|Scotland Hampden ...|     50499|Ruud van Nistelrooy|   Netherlands|Manchester United|   10|\n",
      "|1956|  13|          Pepillo|             Sevilla|         Spain|     2|  0|  0|  0|  1|  0|    1|    3.8|0.0083| 0.0250|0.0625|  1962|          Benfica|      Portugal|           5|         Aguas|     Cavem|   Coluna| Eusebio| Eusebio|    null|      null|             3|           Puskas|           Puskas|           Puskas|         Real Madrid|           Spain|Netherlands Olymp...|     61257|       Heinz Strehl|  West Germany|  1. FC Nuremberg|    8|\n",
      "|1956|  13| Eduard Streltsov|      Torpedo Moscow|  Soviet Union|     2|  0|  0|  0|  1|  0|    1|    3.8|0.0083| 0.0250|0.0625|  1997|Borussia Dortmund|       Germany|           3|        Riedle|    Riedle|   Ricken|    null|    null|    null|      null|             1|        del Piero|             null|             null|            Juventus|           Italy|Germany Olympiast...|     59000|    Milinko PantiÄ‡|    Yugoslavia|  Atletico Madrid|    5|\n",
      "|1956|  13| Eduard Streltsov|      Torpedo Moscow|  Soviet Union|     2|  0|  0|  0|  1|  0|    1|    3.8|0.0083| 0.0250|0.0625|  2013|    Bayern Munich|       Germany|           2|     Mandzukic|    Robben|     null|    null|    null|    null|      null|             1|         Gundogan|             null|             null|   Borussia Dortmund|         Germany|England Wembley S...|     86298|  Cristiano Ronaldo|      Portugal|      Real Madrid|   12|\n",
      "|1956|  21|Bretislav Dolejsi|         Dukla Praha|Czechoslovakia|     1|  0|  0|  0|  0|  1|    1|    2.4|0.0042| 0.0125|0.0625|  1977|        Liverpool|       England|           3|     McDermott|     Smith|     Neal|    null|    null|    null|      null|             1|         Simonsen|             null|             null|Borussia MÃ¶nchen...|    West Germany|Italy Stadio Olim...|     52078|       Gerd MÃ¼ller|  West Germany|    Bayern Munich|    5|\n",
      "|1956|  21|   Roger Piantoni|               Nancy|        France|     1|  0|  0|  0|  0|  1|    1|    2.4|0.0042| 0.0125|0.0625|  1962|          Benfica|      Portugal|           5|         Aguas|     Cavem|   Coluna| Eusebio| Eusebio|    null|      null|             3|           Puskas|           Puskas|           Puskas|         Real Madrid|           Spain|Netherlands Olymp...|     61257|       Heinz Strehl|  West Germany|  1. FC Nuremberg|    8|\n",
      "|1957|   2|     Billy Wright|Wolverhampton Wan...|       England|    19|  1|  2|  2|  0|  0|    5|   25.0|0.0788| 0.2365|0.3125|  1960|      Real Madrid|         Spain|           7|    Di Stefano|Di Stefano|   Puskas|  Puskas|  Puskas|  Puskas|Di Stefano|             3|           Kreiss|            Stein|            Stein| Eintracht Frankfurt|    West Germany|Scotland Hampden ...|    127621|     Ferenc PuskÃ¡s|       Hungary|      Real Madrid|   12|\n",
      "|1957|   3|   Duncan Edwards|   Manchester United|       England|    16|  0|  1|  3|  1|  1|    6|   16.7|0.0664| 0.1992|0.3750|  2004|            Porto|      Portugal|           3|Carlos Alberto|      Deco|Alenichev|    null|    null|    null|      null|             0|             null|             null|             null|              Monaco|          France|Germany Arena Auf...|     53053| Fernando Morientes|         Spain|        AS Monaco|    9|\n",
      "|1957|   3|     Raymond Kopa|      Real Madrid CF|        France|    16|  0|  0|  3|  3|  1|    7|   16.7|0.0664| 0.1992|0.4375|  1997|Borussia Dortmund|       Germany|           3|        Riedle|    Riedle|   Ricken|    null|    null|    null|      null|             1|        del Piero|             null|             null|            Juventus|           Italy|Germany Olympiast...|     59000|    Milinko PantiÄ‡|    Yugoslavia|  Atletico Madrid|    5|\n",
      "|1957|   9|    József Bozsik|              Honvéd|       Hungary|     9|  1|  0|  0|  2|  0|    3|    5.6|0.0373| 0.1120|0.1875|  2017|      Real Madrid|         Spain|           4|       Ronaldo|  Casemiro|  Ronaldo| Asensio|    null|    null|      null|             1|        Mandzukic|             null|             null|            Juventus|           Italy|Wales Millennium ...|     65842|  Cristiano Ronaldo|      Portugal|      Real Madrid|   12|\n",
      "|1957|   9|       Igor Netto|      Spartak Moscow|  Soviet Union|     9|  0|  1|  1|  0|  2|    4|    5.6|0.0373| 0.1120|0.2500|  2007|            Milan|         Italy|           2|       Inzaghi|   Inzaghi|     null|    null|    null|    null|      null|             1|             Kuyt|             null|             null|           Liverpool|         England|Greece Olympic St...|     63000|               Kaka|        Brazil|         AC Milan|   10|\n",
      "+----+----+-----------------+--------------------+--------------+------+---+---+---+---+---+-----+-------+------+-------+------+------+-----------------+--------------+------------+--------------+----------+---------+--------+--------+--------+----------+--------------+-----------------+-----------------+-----------------+--------------------+----------------+--------------------+----------+-------------------+--------------+-----------------+-----+\n",
      "only showing top 20 rows\n",
      "\n"
     ]
    },
    {
     "name": "stderr",
     "output_type": "stream",
     "text": [
      "                                                                                \r"
     ]
    }
   ],
   "source": [
    "#Créer un Dataframe  résultat de la cocaténation des deux autres Dataframes avec pour nom 'all_data'\n",
    "all_data=BallonDOr.join(champions_league).distinct().show()"
   ]
  },
  {
   "cell_type": "code",
   "execution_count": null,
   "metadata": {},
   "outputs": [],
   "source": [
    "\n",
    "\n",
    "\n"
   ]
  },
  {
   "cell_type": "code",
   "execution_count": 16,
   "metadata": {},
   "outputs": [
    {
     "name": "stderr",
     "output_type": "stream",
     "text": [
      "                                                                                \r"
     ]
    },
    {
     "name": "stdout",
     "output_type": "stream",
     "text": [
      "+----+----+------------------+-----------------------+------------+------+---+---+---+---+---+-----+-------+------+-------+------+------+-----------+--------------+------------+----------+--------+---------+--------+--------+--------+--------+--------------+-----------------+-----------------+-----------------+--------------+----------------+------------------------------+----------+--------------------+--------------+--------------------+-----+\n",
      "|Year|Rank|Player            |Club                   |Nationality |Points|P1 |P2 |P3 |P4 |P5 |Votes|RankPts|Share |Percent|Voted |Season|Winner     |Winner Country|Winner Score|scorer 1  |scorer 2|scorer 3 |scorer 4|scorer 5|scorer 6|scorer 7|Finalist Score|opponent scorer 1|opponent scorer 2|opponent scorer 3|Finalist      |Finalist Country|Venue                         |Attendance|Best Scorer         |Country Scorer|Club Scorer         |Goals|\n",
      "+----+----+------------------+-----------------------+------------+------+---+---+---+---+---+-----+-------+------+-------+------+------+-----------+--------------+------------+----------+--------+---------+--------+--------+--------+--------+--------------+-----------------+-----------------+-----------------+--------------+----------------+------------------------------+----------+--------------------+--------------+--------------------+-----+\n",
      "|1956|1   |Stanley Matthews  |Blackpool              |England     |47    |6  |2  |2  |1  |1  |12   |50.0   |0.1958|0.5875 |0.7500|1956  |Real Madrid| Spain        |4           |Di Stefano|Rial    |Marquitos|Rial    |null    |null    |null    |3             |Leblond          |Templin          |Hidalgo          |Stade de Reims| France         |France Parc des Princes, Paris|38239     | MiloÅ¡ MilutinoviÄ‡|Yugoslavia    |FK Partizan Belgrade|8    |\n",
      "|1956|2   |Alfredo Di Stéfano|Real Madrid CF         |Spain       |44    |5  |3  |2  |0  |1  |11   |25.0   |0.1833|0.5500 |0.6875|1956  |Real Madrid| Spain        |4           |Di Stefano|Rial    |Marquitos|Rial    |null    |null    |null    |3             |Leblond          |Templin          |Hidalgo          |Stade de Reims| France         |France Parc des Princes, Paris|38239     | MiloÅ¡ MilutinoviÄ‡|Yugoslavia    |FK Partizan Belgrade|8    |\n",
      "|1956|3   |Raymond Kopa      |Real Madrid CF         |France      |33    |1  |2  |3  |5  |1  |12   |16.7   |0.1375|0.4125 |0.7500|1956  |Real Madrid| Spain        |4           |Di Stefano|Rial    |Marquitos|Rial    |null    |null    |null    |3             |Leblond          |Templin          |Hidalgo          |Stade de Reims| France         |France Parc des Princes, Paris|38239     | MiloÅ¡ MilutinoviÄ‡|Yugoslavia    |FK Partizan Belgrade|8    |\n",
      "|1956|4   |Ferenc Puskás     |Honvéd                 |Hungary     |32    |3  |3  |1  |1  |0  |8    |12.5   |0.1333|0.4000 |0.5000|1956  |Real Madrid| Spain        |4           |Di Stefano|Rial    |Marquitos|Rial    |null    |null    |null    |3             |Leblond          |Templin          |Hidalgo          |Stade de Reims| France         |France Parc des Princes, Paris|38239     | MiloÅ¡ MilutinoviÄ‡|Yugoslavia    |FK Partizan Belgrade|8    |\n",
      "|1956|5   |Lev Yashin        |Dynamo Moskva          |Soviet Union|19    |0  |2  |2  |1  |3  |8    |10.0   |0.0792|0.2375 |0.5000|1956  |Real Madrid| Spain        |4           |Di Stefano|Rial    |Marquitos|Rial    |null    |null    |null    |3             |Leblond          |Templin          |Hidalgo          |Stade de Reims| France         |France Parc des Princes, Paris|38239     | MiloÅ¡ MilutinoviÄ‡|Yugoslavia    |FK Partizan Belgrade|8    |\n",
      "|1956|6   |József Bozsik     |Honvéd                 |Hungary     |15    |0  |3  |1  |0  |0  |4    |8.3    |0.0625|0.1875 |0.2500|1956  |Real Madrid| Spain        |4           |Di Stefano|Rial    |Marquitos|Rial    |null    |null    |null    |3             |Leblond          |Templin          |Hidalgo          |Stade de Reims| France         |France Parc des Princes, Paris|38239     | MiloÅ¡ MilutinoviÄ‡|Yugoslavia    |FK Partizan Belgrade|8    |\n",
      "|1956|7   |Ernst Ocwirk      |Sampdoria              |Austria     |9     |0  |0  |2  |0  |3  |5    |7.1    |0.0375|0.1125 |0.3125|1956  |Real Madrid| Spain        |4           |Di Stefano|Rial    |Marquitos|Rial    |null    |null    |null    |3             |Leblond          |Templin          |Hidalgo          |Stade de Reims| France         |France Parc des Princes, Paris|38239     | MiloÅ¡ MilutinoviÄ‡|Yugoslavia    |FK Partizan Belgrade|8    |\n",
      "|1956|8   |Sándor Kocsis     |Honvéd                 |Hungary     |6     |1  |0  |0  |0  |1  |2    |6.3    |0.0250|0.0750 |0.1250|1956  |Real Madrid| Spain        |4           |Di Stefano|Rial    |Marquitos|Rial    |null    |null    |null    |3             |Leblond          |Templin          |Hidalgo          |Stade de Reims| France         |France Parc des Princes, Paris|38239     | MiloÅ¡ MilutinoviÄ‡|Yugoslavia    |FK Partizan Belgrade|8    |\n",
      "|1956|9   |Thadée Cisowski   |Racing Club Paris      |France      |4     |0  |1  |0  |0  |0  |1    |5.6    |0.0167|0.0500 |0.0625|1956  |Real Madrid| Spain        |4           |Di Stefano|Rial    |Marquitos|Rial    |null    |null    |null    |3             |Leblond          |Templin          |Hidalgo          |Stade de Reims| France         |France Parc des Princes, Paris|38239     | MiloÅ¡ MilutinoviÄ‡|Yugoslavia    |FK Partizan Belgrade|8    |\n",
      "|1956|9   |Ivan Kolev        |CDNA Sofia             |Bulgaria    |4     |0  |0  |1  |0  |1  |2    |5.6    |0.0167|0.0500 |0.1250|1956  |Real Madrid| Spain        |4           |Di Stefano|Rial    |Marquitos|Rial    |null    |null    |null    |3             |Leblond          |Templin          |Hidalgo          |Stade de Reims| France         |France Parc des Princes, Paris|38239     | MiloÅ¡ MilutinoviÄ‡|Yugoslavia    |FK Partizan Belgrade|8    |\n",
      "|1956|9   |Billy Wright      |Wolverhampton Wanderers|England     |4     |0  |0  |1  |0  |1  |2    |5.6    |0.0167|0.0500 |0.1250|1956  |Real Madrid| Spain        |4           |Di Stefano|Rial    |Marquitos|Rial    |null    |null    |null    |3             |Leblond          |Templin          |Hidalgo          |Stade de Reims| France         |France Parc des Princes, Paris|38239     | MiloÅ¡ MilutinoviÄ‡|Yugoslavia    |FK Partizan Belgrade|8    |\n",
      "|1956|12  |Julinho           |Fiorentina             |Italy       |3     |0  |0  |1  |0  |0  |1    |4.2    |0.0125|0.0375 |0.0625|1956  |Real Madrid| Spain        |4           |Di Stefano|Rial    |Marquitos|Rial    |null    |null    |null    |3             |Leblond          |Templin          |Hidalgo          |Stade de Reims| France         |France Parc des Princes, Paris|38239     | MiloÅ¡ MilutinoviÄ‡|Yugoslavia    |FK Partizan Belgrade|8    |\n",
      "|1956|13  |Stefan Bozhkov    |CDNA Sofia             |Bulgaria    |2     |0  |0  |0  |1  |0  |1    |3.8    |0.0083|0.0250 |0.0625|1956  |Real Madrid| Spain        |4           |Di Stefano|Rial    |Marquitos|Rial    |null    |null    |null    |3             |Leblond          |Templin          |Hidalgo          |Stade de Reims| France         |France Parc des Princes, Paris|38239     | MiloÅ¡ MilutinoviÄ‡|Yugoslavia    |FK Partizan Belgrade|8    |\n",
      "|1956|13  |Duncan Edwards    |Manchester United      |England     |2     |0  |0  |0  |1  |0  |1    |3.8    |0.0083|0.0250 |0.0625|1956  |Real Madrid| Spain        |4           |Di Stefano|Rial    |Marquitos|Rial    |null    |null    |null    |3             |Leblond          |Templin          |Hidalgo          |Stade de Reims| France         |France Parc des Princes, Paris|38239     | MiloÅ¡ MilutinoviÄ‡|Yugoslavia    |FK Partizan Belgrade|8    |\n",
      "|1956|13  |Gerhard Hanappi   |Rapid Wien             |Austria     |2     |0  |0  |0  |1  |0  |1    |3.8    |0.0083|0.0250 |0.0625|1956  |Real Madrid| Spain        |4           |Di Stefano|Rial    |Marquitos|Rial    |null    |null    |null    |3             |Leblond          |Templin          |Hidalgo          |Stade de Reims| France         |France Parc des Princes, Paris|38239     | MiloÅ¡ MilutinoviÄ‡|Yugoslavia    |FK Partizan Belgrade|8    |\n",
      "|1956|13  |Robert Jonquet    |Stade de Reims         |France      |2     |0  |0  |0  |1  |0  |1    |3.8    |0.0083|0.0250 |0.0625|1956  |Real Madrid| Spain        |4           |Di Stefano|Rial    |Marquitos|Rial    |null    |null    |null    |3             |Leblond          |Templin          |Hidalgo          |Stade de Reims| France         |France Parc des Princes, Paris|38239     | MiloÅ¡ MilutinoviÄ‡|Yugoslavia    |FK Partizan Belgrade|8    |\n",
      "|1956|13  |Miguel Montuori   |Fiorentina             |Italy       |2     |0  |0  |0  |1  |0  |1    |3.8    |0.0083|0.0250 |0.0625|1956  |Real Madrid| Spain        |4           |Di Stefano|Rial    |Marquitos|Rial    |null    |null    |null    |3             |Leblond          |Templin          |Hidalgo          |Stade de Reims| France         |France Parc des Princes, Paris|38239     | MiloÅ¡ MilutinoviÄ‡|Yugoslavia    |FK Partizan Belgrade|8    |\n",
      "|1956|13  |Pepillo           |Sevilla                |Spain       |2     |0  |0  |0  |1  |0  |1    |3.8    |0.0083|0.0250 |0.0625|1956  |Real Madrid| Spain        |4           |Di Stefano|Rial    |Marquitos|Rial    |null    |null    |null    |3             |Leblond          |Templin          |Hidalgo          |Stade de Reims| France         |France Parc des Princes, Paris|38239     | MiloÅ¡ MilutinoviÄ‡|Yugoslavia    |FK Partizan Belgrade|8    |\n",
      "|1956|13  |Juan Schiaffino   |Milan                  |Italy       |2     |0  |0  |0  |1  |0  |1    |3.8    |0.0083|0.0250 |0.0625|1956  |Real Madrid| Spain        |4           |Di Stefano|Rial    |Marquitos|Rial    |null    |null    |null    |3             |Leblond          |Templin          |Hidalgo          |Stade de Reims| France         |France Parc des Princes, Paris|38239     | MiloÅ¡ MilutinoviÄ‡|Yugoslavia    |FK Partizan Belgrade|8    |\n",
      "|1956|13  |Eduard Streltsov  |Torpedo Moscow         |Soviet Union|2     |0  |0  |0  |1  |0  |1    |3.8    |0.0083|0.0250 |0.0625|1956  |Real Madrid| Spain        |4           |Di Stefano|Rial    |Marquitos|Rial    |null    |null    |null    |3             |Leblond          |Templin          |Hidalgo          |Stade de Reims| France         |France Parc des Princes, Paris|38239     | MiloÅ¡ MilutinoviÄ‡|Yugoslavia    |FK Partizan Belgrade|8    |\n",
      "+----+----+------------------+-----------------------+------------+------+---+---+---+---+---+-----+-------+------+-------+------+------+-----------+--------------+------------+----------+--------+---------+--------+--------+--------+--------+--------------+-----------------+-----------------+-----------------+--------------+----------------+------------------------------+----------+--------------------+--------------+--------------------+-----+\n",
      "only showing top 20 rows\n",
      "\n"
     ]
    }
   ],
   "source": [
    "all_data= BallonDOr.join(champions_league, BallonDOr.Year == champions_league.Season,\"inner\")\n",
    "all_data.show(truncate=False)\n"
   ]
  },
  {
   "cell_type": "code",
   "execution_count": 17,
   "metadata": {},
   "outputs": [
    {
     "name": "stdout",
     "output_type": "stream",
     "text": [
      "+----+------------------+--------------------+------------+------+------+-----------+--------------+------------+--------------+--------------+----------------+--------------------+----------+--------------------+--------------+--------------------+-----+\n",
      "|Rank|            Player|                Club| Nationality|Points|Season|     Winner|Winner Country|Winner Score|Finalist Score|      Finalist|Finalist Country|               Venue|Attendance|         Best Scorer|Country Scorer|         Club Scorer|Goals|\n",
      "+----+------------------+--------------------+------------+------+------+-----------+--------------+------------+--------------+--------------+----------------+--------------------+----------+--------------------+--------------+--------------------+-----+\n",
      "|   1|  Stanley Matthews|           Blackpool|     England|    47|  1956|Real Madrid|         Spain|           4|             3|Stade de Reims|          France|France Parc des P...|     38239| MiloÅ¡ MilutinoviÄ‡|    Yugoslavia|FK Partizan Belgrade|    8|\n",
      "|   2|Alfredo Di Stéfano|      Real Madrid CF|       Spain|    44|  1956|Real Madrid|         Spain|           4|             3|Stade de Reims|          France|France Parc des P...|     38239| MiloÅ¡ MilutinoviÄ‡|    Yugoslavia|FK Partizan Belgrade|    8|\n",
      "|   3|      Raymond Kopa|      Real Madrid CF|      France|    33|  1956|Real Madrid|         Spain|           4|             3|Stade de Reims|          France|France Parc des P...|     38239| MiloÅ¡ MilutinoviÄ‡|    Yugoslavia|FK Partizan Belgrade|    8|\n",
      "|   4|     Ferenc Puskás|              Honvéd|     Hungary|    32|  1956|Real Madrid|         Spain|           4|             3|Stade de Reims|          France|France Parc des P...|     38239| MiloÅ¡ MilutinoviÄ‡|    Yugoslavia|FK Partizan Belgrade|    8|\n",
      "|   5|        Lev Yashin|       Dynamo Moskva|Soviet Union|    19|  1956|Real Madrid|         Spain|           4|             3|Stade de Reims|          France|France Parc des P...|     38239| MiloÅ¡ MilutinoviÄ‡|    Yugoslavia|FK Partizan Belgrade|    8|\n",
      "|   6|     József Bozsik|              Honvéd|     Hungary|    15|  1956|Real Madrid|         Spain|           4|             3|Stade de Reims|          France|France Parc des P...|     38239| MiloÅ¡ MilutinoviÄ‡|    Yugoslavia|FK Partizan Belgrade|    8|\n",
      "|   7|      Ernst Ocwirk|           Sampdoria|     Austria|     9|  1956|Real Madrid|         Spain|           4|             3|Stade de Reims|          France|France Parc des P...|     38239| MiloÅ¡ MilutinoviÄ‡|    Yugoslavia|FK Partizan Belgrade|    8|\n",
      "|   8|     Sándor Kocsis|              Honvéd|     Hungary|     6|  1956|Real Madrid|         Spain|           4|             3|Stade de Reims|          France|France Parc des P...|     38239| MiloÅ¡ MilutinoviÄ‡|    Yugoslavia|FK Partizan Belgrade|    8|\n",
      "|   9|   Thadée Cisowski|   Racing Club Paris|      France|     4|  1956|Real Madrid|         Spain|           4|             3|Stade de Reims|          France|France Parc des P...|     38239| MiloÅ¡ MilutinoviÄ‡|    Yugoslavia|FK Partizan Belgrade|    8|\n",
      "|   9|        Ivan Kolev|          CDNA Sofia|    Bulgaria|     4|  1956|Real Madrid|         Spain|           4|             3|Stade de Reims|          France|France Parc des P...|     38239| MiloÅ¡ MilutinoviÄ‡|    Yugoslavia|FK Partizan Belgrade|    8|\n",
      "|   9|      Billy Wright|Wolverhampton Wan...|     England|     4|  1956|Real Madrid|         Spain|           4|             3|Stade de Reims|          France|France Parc des P...|     38239| MiloÅ¡ MilutinoviÄ‡|    Yugoslavia|FK Partizan Belgrade|    8|\n",
      "|  12|           Julinho|          Fiorentina|       Italy|     3|  1956|Real Madrid|         Spain|           4|             3|Stade de Reims|          France|France Parc des P...|     38239| MiloÅ¡ MilutinoviÄ‡|    Yugoslavia|FK Partizan Belgrade|    8|\n",
      "|  13|    Stefan Bozhkov|          CDNA Sofia|    Bulgaria|     2|  1956|Real Madrid|         Spain|           4|             3|Stade de Reims|          France|France Parc des P...|     38239| MiloÅ¡ MilutinoviÄ‡|    Yugoslavia|FK Partizan Belgrade|    8|\n",
      "|  13|    Duncan Edwards|   Manchester United|     England|     2|  1956|Real Madrid|         Spain|           4|             3|Stade de Reims|          France|France Parc des P...|     38239| MiloÅ¡ MilutinoviÄ‡|    Yugoslavia|FK Partizan Belgrade|    8|\n",
      "|  13|   Gerhard Hanappi|          Rapid Wien|     Austria|     2|  1956|Real Madrid|         Spain|           4|             3|Stade de Reims|          France|France Parc des P...|     38239| MiloÅ¡ MilutinoviÄ‡|    Yugoslavia|FK Partizan Belgrade|    8|\n",
      "|  13|    Robert Jonquet|      Stade de Reims|      France|     2|  1956|Real Madrid|         Spain|           4|             3|Stade de Reims|          France|France Parc des P...|     38239| MiloÅ¡ MilutinoviÄ‡|    Yugoslavia|FK Partizan Belgrade|    8|\n",
      "|  13|   Miguel Montuori|          Fiorentina|       Italy|     2|  1956|Real Madrid|         Spain|           4|             3|Stade de Reims|          France|France Parc des P...|     38239| MiloÅ¡ MilutinoviÄ‡|    Yugoslavia|FK Partizan Belgrade|    8|\n",
      "|  13|           Pepillo|             Sevilla|       Spain|     2|  1956|Real Madrid|         Spain|           4|             3|Stade de Reims|          France|France Parc des P...|     38239| MiloÅ¡ MilutinoviÄ‡|    Yugoslavia|FK Partizan Belgrade|    8|\n",
      "|  13|   Juan Schiaffino|               Milan|       Italy|     2|  1956|Real Madrid|         Spain|           4|             3|Stade de Reims|          France|France Parc des P...|     38239| MiloÅ¡ MilutinoviÄ‡|    Yugoslavia|FK Partizan Belgrade|    8|\n",
      "|  13|  Eduard Streltsov|      Torpedo Moscow|Soviet Union|     2|  1956|Real Madrid|         Spain|           4|             3|Stade de Reims|          France|France Parc des P...|     38239| MiloÅ¡ MilutinoviÄ‡|    Yugoslavia|FK Partizan Belgrade|    8|\n",
      "+----+------------------+--------------------+------------+------+------+-----------+--------------+------------+--------------+--------------+----------------+--------------------+----------+--------------------+--------------+--------------------+-----+\n",
      "only showing top 20 rows\n",
      "\n"
     ]
    }
   ],
   "source": [
    "#supprimer des colonnes\n",
    "all_data=BallonDOr.join(champions_league, BallonDOr.Year == champions_league.Season,\"inner\")\\\n",
    ".drop(\"Year\",\"P1\",\"P2\",\"P3\",\"P4\",\"P5\",\"Votes\",\"RankPts\",\"Percent\",\"Share\",\"Voted\",\"scorer 1\",\"scorer 2\",\"scorer 3\",\"scorer 4\",\"scorer 5\",\"scorer 6\",\"scorer 7\",\"opponent scorer 1\",\"opponent scorer 2\",\"opponent scorer 3\")\n",
    "all_data.show()\n",
    "\n",
    "\n"
   ]
  },
  {
   "cell_type": "code",
   "execution_count": null,
   "metadata": {},
   "outputs": [],
   "source": []
  },
  {
   "cell_type": "code",
   "execution_count": null,
   "metadata": {},
   "outputs": [],
   "source": []
  },
  {
   "cell_type": "code",
   "execution_count": null,
   "metadata": {},
   "outputs": [],
   "source": []
  },
  {
   "cell_type": "code",
   "execution_count": 18,
   "metadata": {},
   "outputs": [
    {
     "name": "stdout",
     "output_type": "stream",
     "text": [
      "root\n",
      " |-- Rank: string (nullable = true)\n",
      " |-- Player: string (nullable = true)\n",
      " |-- Club: string (nullable = true)\n",
      " |-- Nationality: string (nullable = true)\n",
      " |-- Points: string (nullable = true)\n",
      " |-- Season: string (nullable = true)\n",
      " |-- Winner: string (nullable = true)\n",
      " |-- Winner Country: string (nullable = true)\n",
      " |-- Winner Score: string (nullable = true)\n",
      " |-- Finalist Score: string (nullable = true)\n",
      " |-- Finalist: string (nullable = true)\n",
      " |-- Finalist Country: string (nullable = true)\n",
      " |-- Venue: string (nullable = true)\n",
      " |-- Attendance: string (nullable = true)\n",
      " |-- Best Scorer: string (nullable = true)\n",
      " |-- Country Scorer: string (nullable = true)\n",
      " |-- Club Scorer: string (nullable = true)\n",
      " |-- Goals: string (nullable = true)\n",
      "\n"
     ]
    }
   ],
   "source": [
    "all_data.printSchema()\n"
   ]
  },
  {
   "cell_type": "code",
   "execution_count": 22,
   "metadata": {},
   "outputs": [
    {
     "name": "stderr",
     "output_type": "stream",
     "text": [
      "                                                                                \r"
     ]
    }
   ],
   "source": [
    "#Création du fichier csv all_data avec les noms des colonnes et supression des lignes inutiles\n",
    "\n",
    "all_data.where(all_data.Rank == 1).write.option(\"header\",True) \\\n",
    ".csv(\"all_data\")\n",
    "\n",
    "\n"
   ]
  },
  {
   "cell_type": "code",
   "execution_count": null,
   "metadata": {},
   "outputs": [],
   "source": []
  },
  {
   "cell_type": "code",
   "execution_count": null,
   "metadata": {},
   "outputs": [],
   "source": [
    "#il faut put le fichier all_data dans hdfs puis reprendre les traitements"
   ]
  },
  {
   "cell_type": "code",
   "execution_count": 23,
   "metadata": {},
   "outputs": [],
   "source": [
    "path=\"hdfs://namenode:9000/DataFootHadoop/all_data.csv\" \n"
   ]
  },
  {
   "cell_type": "code",
   "execution_count": 24,
   "metadata": {},
   "outputs": [],
   "source": [
    "#Chargement de all_data\n",
    "all_data=spark.read.format(\"csv\").options(header=True).load(path)"
   ]
  },
  {
   "cell_type": "code",
   "execution_count": 25,
   "metadata": {},
   "outputs": [
    {
     "name": "stdout",
     "output_type": "stream",
     "text": [
      "+----+--------------------+-----------------+----------------+------+------+-----------------+--------------+------------+--------------+-------------------+----------------+--------------------+----------+--------------------+--------------+--------------------+-----+\n",
      "|Rank|              Player|             Club|     Nationality|Points|Season|           Winner|Winner Country|Winner Score|Finalist Score|           Finalist|Finalist Country|               Venue|Attendance|         Best Scorer|Country Scorer|         Club Scorer|Goals|\n",
      "+----+--------------------+-----------------+----------------+------+------+-----------------+--------------+------------+--------------+-------------------+----------------+--------------------+----------+--------------------+--------------+--------------------+-----+\n",
      "|   1|    Stanley Matthews|        Blackpool|         England|    47|  1956|      Real Madrid|         Spain|           4|             3|     Stade de Reims|          France|France Parc des P...|     38239| MiloÅ¡ MilutinoviÄ‡|    Yugoslavia|FK Partizan Belgrade|    8|\n",
      "|   1|  Alfredo Di Stéfano|   Real Madrid CF|           Spain|    72|  1957|      Real Madrid|         Spain|           2|             0|         Fiorentina|           Italy|Spain Santiago Be...|    124000|      Dennis Viollet|       England|   Manchester United|    9|\n",
      "|   1|        Raymond Kopa|   Real Madrid CF|          France|    71|  1958|      Real Madrid|         Spain|           3|             2|              Milan|           Italy|Belgium Heysel St...|     67000| Alfredo Di StÃ©fano|         Spain|         Real Madrid|   10|\n",
      "|   1|  Alfredo Di Stéfano|   Real Madrid CF|           Spain|    80|  1959|      Real Madrid|         Spain|           2|             0|     Stade de Reims|          France|West Germany Neck...|     72000|       Just Fountain|        France|       Reims Stadium|   10|\n",
      "|   1|Luis Suárez Miram...|     FC Barcelona|           Spain|    54|  1960|      Real Madrid|         Spain|           7|             3|Eintracht Frankfurt|    West Germany|Scotland Hampden ...|    127621|      Ferenc PuskÃ¡s|       Hungary|         Real Madrid|   12|\n",
      "|   1|         Omar Sívori|         Juventus|           Italy|    46|  1961|          Benfica|      Portugal|           3|             2|          Barcelona|           Spain|Switzerland Wankd...|     26732|        JosÃ© Ãguas|      Portugal|             Benfica|   11|\n",
      "|   1|      Josef Masopust|      Dukla Praha|  Czechoslovakia|    65|  1962|          Benfica|      Portugal|           5|             3|        Real Madrid|           Spain|Netherlands Olymp...|     61257|        Heinz Strehl|  West Germany|     1. FC Nuremberg|    8|\n",
      "|   1|          Lev Yashin|    Dynamo Moscow|    Soviet Union|    73|  1963|            Milan|         Italy|           2|             1|            Benfica|        Portugal|England Wembley S...|     45715|      JosÃ© Altafini|         Italy|            AC Milan|   14|\n",
      "|   1|           Denis Law|Manchester United|        Scotland|    61|  1964|   Internazionale|         Italy|           3|             1|        Real Madrid|           Spain|Austria Prater St...|     71333|Vladimir KovaÄeviÄ‡|    Yugoslavia|FK Partizan Belgrade|    7|\n",
      "|   1|             Eusébio|          Benfica|        Portugal|    67|  1965|   Internazionale|         Italy|           1|             0|            Benfica|        Portugal|Italy San Siro, M...|     89000|             Eusebio|      Portugal|             Benfica|    9|\n",
      "|   1|      Bobby Charlton|Manchester United|         England|    81|  1966|      Real Madrid|         Spain|           2|             1|           Partizan|      Yugoslavia|Belgium Heysel St...|     46745|             Eusebio|      Portugal|             Benfica|    7|\n",
      "|   1|      Flórián Albert|      Ferencváros|         Hungary|    68|  1967|           Celtic|      Scotland|           2|             1|     Internazionale|           Italy|Portugal EstÃ¡dio...|     45000|      Paul Van Himst|       Belgium|      RSC Anderlecht|    6|\n",
      "|   1|         George Best|Manchester United|Northern Ireland|    61|  1968|Manchester United|       England|           4|             1|            Benfica|        Portugal|England Wembley S...|     92225|             Eusebio|      Portugal|             Benfica|    6|\n",
      "|   1|       Gianni Rivera|            Milan|           Italy|    83|  1969|            Milan|         Italy|           3|             1|               Ajax|     Netherlands|Spain Santiago Be...|     31782|          Dennis Law|      Scotland|   Manchester United|    9|\n",
      "|   1|         Gerd Müller|    Bayern Munich|    West Germany|    77|  1970|        Feyenoord|   Netherlands|           2|             1|             Celtic|        Scotland|Italy San Siro, M...|     53187|          Mick Jones|       England|        Leeds United|    8|\n",
      "|   1|       Johan Cruijff|             Ajax|     Netherlands|   116|  1971|             Ajax|   Netherlands|           2|             0|      Panathinaikos|          Greece|England Wembley S...|     83179|  Antonis Antoniadis|        Greece|       Panathinaikos|   10|\n",
      "|   1|   Franz Beckenbauer|    Bayern Munich|    West Germany|    81|  1972|             Ajax|   Netherlands|           2|             0|     Internazionale|           Italy|Netherlands De Ku...|     61354|    Silvester TakaÄ|    Yugoslavia|      Standard Liege|    5|\n",
      "|   1|       Johan Cruijff|     FC Barcelona|     Netherlands|    96|  1973|             Ajax|   Netherlands|           1|             0|           Juventus|           Italy|Socialist Federal...|     89484|        Gerd MÃ¼ller|  West Germany|       Bayern Munich|   11|\n",
      "|   1|       Johan Cruijff|     FC Barcelona|     Netherlands|   116|  1974|    Bayern Munich|  West Germany|           4|             0|   AtlÃ©tico Madrid|           Spain|Belgium Heysel St...|     72047|        Gerd MÃ¼ller|  West Germany|       Bayern Munich|    8|\n",
      "|   1|        Oleg Blokhin|      Dynamo Kyiv|    Soviet Union|   122|  1975|    Bayern Munich|  West Germany|           2|             0|       Leeds United|         England|France Parc des P...|     48374|         Gerd Muller|  West Germany|       Bayern Munich|    5|\n",
      "+----+--------------------+-----------------+----------------+------+------+-----------------+--------------+------------+--------------+-------------------+----------------+--------------------+----------+--------------------+--------------+--------------------+-----+\n",
      "only showing top 20 rows\n",
      "\n"
     ]
    }
   ],
   "source": [
    "all_data.show()"
   ]
  },
  {
   "cell_type": "code",
   "execution_count": 26,
   "metadata": {},
   "outputs": [
    {
     "data": {
      "text/plain": [
       "[('Rank', 'string'),\n",
       " ('Player', 'string'),\n",
       " ('Club', 'string'),\n",
       " ('Nationality', 'string'),\n",
       " ('Points', 'string'),\n",
       " ('Season', 'string'),\n",
       " ('Winner', 'string'),\n",
       " ('Winner Country', 'string'),\n",
       " ('Winner Score', 'string'),\n",
       " ('Finalist Score', 'string'),\n",
       " ('Finalist', 'string'),\n",
       " ('Finalist Country', 'string'),\n",
       " ('Venue', 'string'),\n",
       " ('Attendance', 'string'),\n",
       " ('Best Scorer', 'string'),\n",
       " ('Country Scorer', 'string'),\n",
       " ('Club Scorer', 'string'),\n",
       " ('Goals', 'string')]"
      ]
     },
     "execution_count": 26,
     "metadata": {},
     "output_type": "execute_result"
    }
   ],
   "source": [
    "#Type des données du fichier all_data.csv\n",
    "all_data.dtypes"
   ]
  },
  {
   "cell_type": "code",
   "execution_count": 27,
   "metadata": {},
   "outputs": [
    {
     "data": {
      "text/plain": [
       "Row(Rank='1', Player='Stanley Matthews', Club='Blackpool', Nationality='England', Points='47', Season='1956', Winner='Real Madrid', Winner Country='Spain', Winner Score='4', Finalist Score='3', Finalist='Stade de Reims', Finalist Country='France', Venue='France Parc des Princes, Paris', Attendance='38239', Best Scorer='MiloÅ¡ MilutinoviÄ‡', Country Scorer='Yugoslavia', Club Scorer='FK Partizan Belgrade', Goals='8')"
      ]
     },
     "execution_count": 27,
     "metadata": {},
     "output_type": "execute_result"
    }
   ],
   "source": [
    "#Les 5 premières lignes du fichier all_data.csv\n",
    "all_data.head()"
   ]
  },
  {
   "cell_type": "code",
   "execution_count": 28,
   "metadata": {},
   "outputs": [
    {
     "data": {
      "text/plain": [
       "['Rank',\n",
       " 'Player',\n",
       " 'Club',\n",
       " 'Nationality',\n",
       " 'Points',\n",
       " 'Season',\n",
       " 'Winner',\n",
       " 'Winner Country',\n",
       " 'Winner Score',\n",
       " 'Finalist Score',\n",
       " 'Finalist',\n",
       " 'Finalist Country',\n",
       " 'Venue',\n",
       " 'Attendance',\n",
       " 'Best Scorer',\n",
       " 'Country Scorer',\n",
       " 'Club Scorer',\n",
       " 'Goals']"
      ]
     },
     "execution_count": 28,
     "metadata": {},
     "output_type": "execute_result"
    }
   ],
   "source": [
    "all_data.columns"
   ]
  },
  {
   "cell_type": "code",
   "execution_count": 29,
   "metadata": {},
   "outputs": [
    {
     "data": {
      "text/plain": [
       "[Row(avg(Winner Score)=2.0793650793650795)]"
      ]
     },
     "execution_count": 29,
     "metadata": {},
     "output_type": "execute_result"
    }
   ],
   "source": [
    "#Analyse univariée\n",
    "#Calculons la moyenne des buts marqués par le vainqueur en finale de Champions league\n",
    "all_data.agg({'Winner Score': 'mean'}).collect()\n",
    "\n",
    "\n"
   ]
  },
  {
   "cell_type": "code",
   "execution_count": 30,
   "metadata": {},
   "outputs": [
    {
     "data": {
      "text/plain": [
       "[Row(avg(Finalist Score)=0.6666666666666666)]"
      ]
     },
     "execution_count": 30,
     "metadata": {},
     "output_type": "execute_result"
    }
   ],
   "source": [
    "#Calculons la moyenne des buts marqués par le finaliste en finale de Champions league\n",
    "all_data.agg({'Finalist Score': 'mean'}).collect()"
   ]
  },
  {
   "cell_type": "code",
   "execution_count": null,
   "metadata": {},
   "outputs": [],
   "source": []
  },
  {
   "cell_type": "code",
   "execution_count": 32,
   "metadata": {},
   "outputs": [
    {
     "name": "stderr",
     "output_type": "stream",
     "text": [
      "[Stage 30:================================================>     (179 + 1) / 200]\r"
     ]
    },
    {
     "name": "stdout",
     "output_type": "stream",
     "text": [
      "+--------------+-----+\n",
      "|Winner Country|count|\n",
      "+--------------+-----+\n",
      "|         Spain|   18|\n",
      "|         Italy|   12|\n",
      "|       England|   12|\n",
      "|   Netherlands|    6|\n",
      "|      Portugal|    4|\n",
      "|  West Germany|    4|\n",
      "|       Germany|    3|\n",
      "|        France|    1|\n",
      "|       Romania|    1|\n",
      "|    Yugoslavia|    1|\n",
      "|      Scotland|    1|\n",
      "+--------------+-----+\n",
      "\n"
     ]
    },
    {
     "name": "stderr",
     "output_type": "stream",
     "text": [
      "                                                                                \r"
     ]
    }
   ],
   "source": [
    "#Le pays qui a remporté le plus de finale de Champions League\n",
    "\n",
    "all_data.groupBy(\"Winner Country\").count().sort('count', ascending = False).show()\n",
    "\n"
   ]
  },
  {
   "cell_type": "code",
   "execution_count": 144,
   "metadata": {},
   "outputs": [
    {
     "name": "stderr",
     "output_type": "stream",
     "text": [
      "[Stage 153:===========================================>         (166 + 3) / 200]\r"
     ]
    },
    {
     "name": "stdout",
     "output_type": "stream",
     "text": [
      "+-------------------+-----+\n",
      "|        Best Scorer|count|\n",
      "+-------------------+-----+\n",
      "|  Cristiano Ronaldo|    7|\n",
      "|       Lionel Messi|    4|\n",
      "|       Gerd MÃ¼ller|    3|\n",
      "|  Jean-Pierre Papin|    3|\n",
      "|            Eusebio|    3|\n",
      "|Ruud van Nistelrooy|    3|\n",
      "|     Allan Simonsen|    1|\n",
      "|     Ferenc PuskÃ¡s|    1|\n",
      "|Alfredo Di StÃ©fano|    1|\n",
      "|       Victor Sokol|    1|\n",
      "|     Paul Van Himst|    1|\n",
      "|         Mick Jones|    1|\n",
      "|      Jupp Heynckes|    1|\n",
      "|   Silvester TakaÄ|    1|\n",
      "|            Rivaldo|    1|\n",
      "|MiloÅ¡ MilutinoviÄ‡|    1|\n",
      "|      Ronald Koeman|    1|\n",
      "|  Andriy Shevchenko|    1|\n",
      "|            Romario|    1|\n",
      "|Borislav CvetkoviÄ‡|    1|\n",
      "+-------------------+-----+\n",
      "only showing top 20 rows\n",
      "\n"
     ]
    },
    {
     "name": "stderr",
     "output_type": "stream",
     "text": [
      "                                                                                \r"
     ]
    }
   ],
   "source": [
    "#Le joueur qui a le plus de fois été meilleur buteur en C1\n",
    "all_data.groupBy(\"Best Scorer\").count().sort('count', ascending = False).show()"
   ]
  },
  {
   "cell_type": "code",
   "execution_count": 35,
   "metadata": {},
   "outputs": [
    {
     "name": "stdout",
     "output_type": "stream",
     "text": [
      "+-------+----+------------------+--------------+------------+------------------+-----------------+-----------------+--------------+------------------+------------------+--------+----------------+--------------------+------------------+--------------------+--------------+---------------+-----------------+\n",
      "|summary|Rank|            Player|          Club| Nationality|            Points|           Season|           Winner|Winner Country|      Winner Score|    Finalist Score|Finalist|Finalist Country|               Venue|        Attendance|         Best Scorer|Country Scorer|    Club Scorer|            Goals|\n",
      "+-------+----+------------------+--------------+------------+------------------+-----------------+-----------------+--------------+------------------+------------------+--------+----------------+--------------------+------------------+--------------------+--------------+---------------+-----------------+\n",
      "|  count|  63|                63|            63|          63|                58|               63|               63|            63|                63|                63|      63|              63|                  63|                63|                  63|            63|             63|               63|\n",
      "|   mean| 1.0|              null|          null|        null|201.82758620689654|           1987.0|             null|          null|2.0793650793650795|0.6666666666666666|    null|            null|                null| 66317.92063492064|                null|          null|           null|8.746031746031745|\n",
      "| stddev| 0.0|              null|          null|        null| 281.3302447197446|18.33030277982336|             null|          null|1.3356354933210428|0.8230548917531015|    null|            null|                null|18454.214417956737|                null|          null|           null|2.805341989204755|\n",
      "|    min|   1|Alfredo Di Stéfano|          Ajax|   Argentina|               106|             1956|             Ajax|       England|                 0|                 0|    Ajax|         Belgium|Austria Ernst-Hap...|            124000|Alessandro Del Piero|     Argentina|1. FC Nuremberg|               10|\n",
      "|    max|   1|   Zinedine Zidane|Real Madrid CF|West Germany|                98|             2018|Steaua BucureÈ™ti|    Yugoslavia|                 7|                 3|Valencia|      Yugoslavia|West Germany Olym...|             97000|Vladimir KovaÄeviÄ‡|    Yugoslavia| ajax Amsterdam|                9|\n",
      "+-------+----+------------------+--------------+------------+------------------+-----------------+-----------------+--------------+------------------+------------------+--------+----------------+--------------------+------------------+--------------------+--------------+---------------+-----------------+\n",
      "\n"
     ]
    }
   ],
   "source": [
    "#Statistiques récapitulatives de notre DataFrame\n",
    "#count pour la taille de chaque colonne\n",
    "#mean pour la moyenne des données\n",
    "#std pour l'écart type ou la propagation de nos données\n",
    "#Le min et le max pour chacune de nos colonnes\n",
    "#Le premier, deuxième et troisième quartile\n",
    "all_data.describe().show()"
   ]
  },
  {
   "cell_type": "code",
   "execution_count": 37,
   "metadata": {},
   "outputs": [
    {
     "name": "stdout",
     "output_type": "stream",
     "text": [
      "+------+\n",
      "|Points|\n",
      "+------+\n",
      "|    47|\n",
      "|    72|\n",
      "|    71|\n",
      "|    80|\n",
      "|    54|\n",
      "|    46|\n",
      "|    65|\n",
      "|    73|\n",
      "|    61|\n",
      "|    67|\n",
      "|    81|\n",
      "|    68|\n",
      "|    61|\n",
      "|    83|\n",
      "|    77|\n",
      "|   116|\n",
      "|    81|\n",
      "|    96|\n",
      "|   116|\n",
      "|   122|\n",
      "+------+\n",
      "only showing top 20 rows\n",
      "\n"
     ]
    }
   ],
   "source": [
    "all_data.select('Points').show()\n"
   ]
  },
  {
   "cell_type": "code",
   "execution_count": 38,
   "metadata": {},
   "outputs": [
    {
     "ename": "SyntaxError",
     "evalue": "invalid syntax (3431895521.py, line 2)",
     "output_type": "error",
     "traceback": [
      "\u001b[0;36m  Cell \u001b[0;32mIn [38], line 2\u001b[0;36m\u001b[0m\n\u001b[0;31m    form pyspark.sql.functions import log\u001b[0m\n\u001b[0m         ^\u001b[0m\n\u001b[0;31mSyntaxError\u001b[0m\u001b[0;31m:\u001b[0m invalid syntax\n"
     ]
    }
   ],
   "source": [
    "\n",
    "\n"
   ]
  },
  {
   "cell_type": "code",
   "execution_count": 39,
   "metadata": {},
   "outputs": [
    {
     "ename": "NameError",
     "evalue": "name 'log' is not defined",
     "output_type": "error",
     "traceback": [
      "\u001b[0;31m---------------------------------------------------------------------------\u001b[0m",
      "\u001b[0;31mNameError\u001b[0m                                 Traceback (most recent call last)",
      "Cell \u001b[0;32mIn [39], line 2\u001b[0m\n\u001b[1;32m      1\u001b[0m \u001b[38;5;66;03m#On va créer une nouvelle colonne logPoints qui va etre le log des points\u001b[39;00m\n\u001b[0;32m----> 2\u001b[0m all_data\u001b[38;5;241m=\u001b[39mall_data\u001b[38;5;241m.\u001b[39mwithColumn(\u001b[38;5;124m'\u001b[39m\u001b[38;5;124mlogPoints\u001b[39m\u001b[38;5;124m'\u001b[39m,\u001b[43mlog\u001b[49m(\u001b[38;5;124m'\u001b[39m\u001b[38;5;124mPoints\u001b[39m\u001b[38;5;124m'\u001b[39m))\n",
      "\u001b[0;31mNameError\u001b[0m: name 'log' is not defined"
     ]
    }
   ],
   "source": [
    "\n"
   ]
  },
  {
   "cell_type": "code",
   "execution_count": null,
   "metadata": {},
   "outputs": [],
   "source": [
    "\n"
   ]
  },
  {
   "cell_type": "code",
   "execution_count": null,
   "metadata": {},
   "outputs": [],
   "source": []
  }
 ],
 "metadata": {
  "kernelspec": {
   "display_name": "Python 3 (ipykernel)",
   "language": "python",
   "name": "python3"
  },
  "language_info": {
   "codemirror_mode": {
    "name": "ipython",
    "version": 3
   },
   "file_extension": ".py",
   "mimetype": "text/x-python",
   "name": "python",
   "nbconvert_exporter": "python",
   "pygments_lexer": "ipython3",
   "version": "3.9.2"
  },
  "vscode": {
   "interpreter": {
    "hash": "29b11319cf0179cc51991dc5f7beb4e7e3226e80310d496f5a6837462b7b1381"
   }
  }
 },
 "nbformat": 4,
 "nbformat_minor": 4
}
