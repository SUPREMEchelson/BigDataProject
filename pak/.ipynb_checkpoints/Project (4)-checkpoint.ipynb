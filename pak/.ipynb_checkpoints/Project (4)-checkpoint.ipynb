{
 "cells": [
  {
   "cell_type": "code",
   "execution_count": null,
   "metadata": {},
   "outputs": [],
   "source": [
    "import pyspark\n",
    "\n",
    "from pyspark.sql import SparkSession\n",
    "import os\n",
    "#from pyspark.mllib.regression import LabeledPoint\n",
    "#from pyspark.mllib.tree import DecisionTree\n",
    "#from pyspark import SparkConf, SparkContext\n",
    "#from numpy import array\n",
    "#sans se connecter au cluster\n",
    "#spark = SparkSession.builder.getOrCreate()\n",
    "\n",
    "spark = SparkSession.\\\n",
    "        builder.\\\n",
    "        appName(\"pyspark-notebook\").\\\n",
    "        master(\"spark://spark-master:7077\").\\\n",
    "        config(\"spark.executor.memory\", \"1g\").\\\n",
    "        getOrCreate()"
   ]
  },
  {
   "cell_type": "code",
   "execution_count": 3,
   "metadata": {},
   "outputs": [],
   "source": [
    "path=\"hdfs://namenode:9000/DataFootHadoop/BallonDOr.csv\" \n",
    "\n"
   ]
  },
  {
   "cell_type": "code",
   "execution_count": null,
   "metadata": {},
   "outputs": [
    {
     "name": "stderr",
     "output_type": "stream",
     "text": [
      "22/11/16 16:04:11 WARN TaskSchedulerImpl: Initial job has not accepted any resources; check your cluster UI to ensure that workers are registered and have sufficient resources\n",
      "22/11/16 16:04:26 WARN TaskSchedulerImpl: Initial job has not accepted any resources; check your cluster UI to ensure that workers are registered and have sufficient resources\n",
      "22/11/16 16:04:41 WARN TaskSchedulerImpl: Initial job has not accepted any resources; check your cluster UI to ensure that workers are registered and have sufficient resources\n",
      "22/11/16 16:04:56 WARN TaskSchedulerImpl: Initial job has not accepted any resources; check your cluster UI to ensure that workers are registered and have sufficient resources\n",
      "22/11/16 16:05:11 WARN TaskSchedulerImpl: Initial job has not accepted any resources; check your cluster UI to ensure that workers are registered and have sufficient resources\n",
      "22/11/16 16:05:26 WARN TaskSchedulerImpl: Initial job has not accepted any resources; check your cluster UI to ensure that workers are registered and have sufficient resources\n",
      "22/11/16 16:05:41 WARN TaskSchedulerImpl: Initial job has not accepted any resources; check your cluster UI to ensure that workers are registered and have sufficient resources\n",
      "22/11/16 16:05:56 WARN TaskSchedulerImpl: Initial job has not accepted any resources; check your cluster UI to ensure that workers are registered and have sufficient resources\n",
      "22/11/16 16:06:11 WARN TaskSchedulerImpl: Initial job has not accepted any resources; check your cluster UI to ensure that workers are registered and have sufficient resources\n",
      "22/11/16 16:06:26 WARN TaskSchedulerImpl: Initial job has not accepted any resources; check your cluster UI to ensure that workers are registered and have sufficient resources\n",
      "22/11/16 16:06:41 WARN TaskSchedulerImpl: Initial job has not accepted any resources; check your cluster UI to ensure that workers are registered and have sufficient resources\n",
      "22/11/16 16:06:56 WARN TaskSchedulerImpl: Initial job has not accepted any resources; check your cluster UI to ensure that workers are registered and have sufficient resources\n",
      "22/11/16 16:07:11 WARN TaskSchedulerImpl: Initial job has not accepted any resources; check your cluster UI to ensure that workers are registered and have sufficient resources\n",
      "22/11/16 16:07:26 WARN TaskSchedulerImpl: Initial job has not accepted any resources; check your cluster UI to ensure that workers are registered and have sufficient resources\n",
      "22/11/16 16:07:41 WARN TaskSchedulerImpl: Initial job has not accepted any resources; check your cluster UI to ensure that workers are registered and have sufficient resources\n",
      "22/11/16 16:07:56 WARN TaskSchedulerImpl: Initial job has not accepted any resources; check your cluster UI to ensure that workers are registered and have sufficient resources\n",
      "22/11/16 16:08:11 WARN TaskSchedulerImpl: Initial job has not accepted any resources; check your cluster UI to ensure that workers are registered and have sufficient resources\n",
      "22/11/16 16:08:26 WARN TaskSchedulerImpl: Initial job has not accepted any resources; check your cluster UI to ensure that workers are registered and have sufficient resources\n"
     ]
    }
   ],
   "source": [
    "#Créer un DataFrame en utilisant une instruction qui permet de charger le fichier csv BallonDOr\n",
    "BallonDOr=spark.read.format(\"csv\").options(header=True).load(path)\n",
    "\n"
   ]
  },
  {
   "cell_type": "code",
   "execution_count": null,
   "metadata": {},
   "outputs": [],
   "source": [
    "#Affichage du résultat du DataFrame BallonDOr\n",
    "BallonDOr.show()"
   ]
  },
  {
   "cell_type": "code",
   "execution_count": 121,
   "metadata": {},
   "outputs": [
    {
     "data": {
      "text/plain": [
       "DataFrame[Year: int, Rank: int, Player: string, Club: string, Nationality: string, Points: int, P1: int, P2: int, P3: int, P4: int, P5: int, Votes: int, RankPts: double, Share: double, Percent: double, Voted: double]"
      ]
     },
     "execution_count": 121,
     "metadata": {},
     "output_type": "execute_result"
    }
   ],
   "source": [
    "BallonDOr"
   ]
  },
  {
   "cell_type": "code",
   "execution_count": null,
   "metadata": {},
   "outputs": [],
   "source": []
  },
  {
   "cell_type": "code",
   "execution_count": 122,
   "metadata": {},
   "outputs": [
    {
     "name": "stdout",
     "output_type": "stream",
     "text": [
      "root\n",
      " |-- Year: integer (nullable = true)\n",
      " |-- Rank: integer (nullable = true)\n",
      " |-- Player: string (nullable = true)\n",
      " |-- Club: string (nullable = true)\n",
      " |-- Nationality: string (nullable = true)\n",
      " |-- Points: integer (nullable = true)\n",
      " |-- P1: integer (nullable = true)\n",
      " |-- P2: integer (nullable = true)\n",
      " |-- P3: integer (nullable = true)\n",
      " |-- P4: integer (nullable = true)\n",
      " |-- P5: integer (nullable = true)\n",
      " |-- Votes: integer (nullable = true)\n",
      " |-- RankPts: double (nullable = true)\n",
      " |-- Share: double (nullable = true)\n",
      " |-- Percent: double (nullable = true)\n",
      " |-- Voted: double (nullable = true)\n",
      "\n"
     ]
    }
   ],
   "source": [
    "#Schema avec arborescence du DataFrame BallonDOr\n",
    "BallonDOr.printSchema()"
   ]
  },
  {
   "cell_type": "code",
   "execution_count": 123,
   "metadata": {},
   "outputs": [],
   "source": [
    "#Changer le nom de la colonne Year par Season\n",
    "BallonDOr=BallonDOr.withColumnRenamed(\"Year\",\"Season\")\n",
    "BallonDOr=BallonDOr.withColumnRenamed(\"Season\",\"Year\")"
   ]
  },
  {
   "cell_type": "code",
   "execution_count": 124,
   "metadata": {},
   "outputs": [
    {
     "name": "stdout",
     "output_type": "stream",
     "text": [
      "+----+----+------------------+--------------------+------------+------+---+---+---+---+---+-----+-------+------+-------+------+\n",
      "|Year|Rank|            Player|                Club| Nationality|Points| P1| P2| P3| P4| P5|Votes|RankPts| Share|Percent| Voted|\n",
      "+----+----+------------------+--------------------+------------+------+---+---+---+---+---+-----+-------+------+-------+------+\n",
      "|1956|   1|  Stanley Matthews|           Blackpool|     England|    47|  6|  2|  2|  1|  1|   12|   50.0|0.1958| 0.5875|  0.75|\n",
      "|1956|   2|Alfredo Di Stéfano|      Real Madrid CF|       Spain|    44|  5|  3|  2|  0|  1|   11|   25.0|0.1833|   0.55|0.6875|\n",
      "|1956|   3|      Raymond Kopa|      Real Madrid CF|      France|    33|  1|  2|  3|  5|  1|   12|   16.7|0.1375| 0.4125|  0.75|\n",
      "|1956|   4|     Ferenc Puskás|              Honvéd|     Hungary|    32|  3|  3|  1|  1|  0|    8|   12.5|0.1333|    0.4|   0.5|\n",
      "|1956|   5|        Lev Yashin|       Dynamo Moskva|Soviet Union|    19|  0|  2|  2|  1|  3|    8|   10.0|0.0792| 0.2375|   0.5|\n",
      "|1956|   6|     József Bozsik|              Honvéd|     Hungary|    15|  0|  3|  1|  0|  0|    4|    8.3|0.0625| 0.1875|  0.25|\n",
      "|1956|   7|      Ernst Ocwirk|           Sampdoria|     Austria|     9|  0|  0|  2|  0|  3|    5|    7.1|0.0375| 0.1125|0.3125|\n",
      "|1956|   8|     Sándor Kocsis|              Honvéd|     Hungary|     6|  1|  0|  0|  0|  1|    2|    6.3| 0.025|  0.075| 0.125|\n",
      "|1956|   9|   Thadée Cisowski|   Racing Club Paris|      France|     4|  0|  1|  0|  0|  0|    1|    5.6|0.0167|   0.05|0.0625|\n",
      "|1956|   9|        Ivan Kolev|          CDNA Sofia|    Bulgaria|     4|  0|  0|  1|  0|  1|    2|    5.6|0.0167|   0.05| 0.125|\n",
      "|1956|   9|      Billy Wright|Wolverhampton Wan...|     England|     4|  0|  0|  1|  0|  1|    2|    5.6|0.0167|   0.05| 0.125|\n",
      "|1956|  12|           Julinho|          Fiorentina|       Italy|     3|  0|  0|  1|  0|  0|    1|    4.2|0.0125| 0.0375|0.0625|\n",
      "|1956|  13|    Stefan Bozhkov|          CDNA Sofia|    Bulgaria|     2|  0|  0|  0|  1|  0|    1|    3.8|0.0083|  0.025|0.0625|\n",
      "|1956|  13|    Duncan Edwards|   Manchester United|     England|     2|  0|  0|  0|  1|  0|    1|    3.8|0.0083|  0.025|0.0625|\n",
      "|1956|  13|   Gerhard Hanappi|          Rapid Wien|     Austria|     2|  0|  0|  0|  1|  0|    1|    3.8|0.0083|  0.025|0.0625|\n",
      "|1956|  13|    Robert Jonquet|      Stade de Reims|      France|     2|  0|  0|  0|  1|  0|    1|    3.8|0.0083|  0.025|0.0625|\n",
      "|1956|  13|   Miguel Montuori|          Fiorentina|       Italy|     2|  0|  0|  0|  1|  0|    1|    3.8|0.0083|  0.025|0.0625|\n",
      "|1956|  13|           Pepillo|             Sevilla|       Spain|     2|  0|  0|  0|  1|  0|    1|    3.8|0.0083|  0.025|0.0625|\n",
      "|1956|  13|   Juan Schiaffino|               Milan|       Italy|     2|  0|  0|  0|  1|  0|    1|    3.8|0.0083|  0.025|0.0625|\n",
      "|1956|  13|  Eduard Streltsov|      Torpedo Moscow|Soviet Union|     2|  0|  0|  0|  1|  0|    1|    3.8|0.0083|  0.025|0.0625|\n",
      "+----+----+------------------+--------------------+------------+------+---+---+---+---+---+-----+-------+------+-------+------+\n",
      "only showing top 20 rows\n",
      "\n"
     ]
    }
   ],
   "source": [
    "BallonDOr.show()"
   ]
  },
  {
   "cell_type": "code",
   "execution_count": 126,
   "metadata": {},
   "outputs": [],
   "source": [
    "#Créer un DataFrame en utilisant une instruction qui permet de charger le fichier csv champions_league\n",
    "champions_league=spark.read.csv('./foot/champions_league.csv',inferSchema=True, header=True)"
   ]
  },
  {
   "cell_type": "code",
   "execution_count": 127,
   "metadata": {},
   "outputs": [
    {
     "name": "stdout",
     "output_type": "stream",
     "text": [
      "+------+-----------------+--------------+------------+----------+----------------+---------+--------+--------+--------+----------+--------------+-----------------+-----------------+-----------------+-------------------+----------------+--------------------+----------+--------------------+--------------+--------------------+-----+\n",
      "|Season|           Winner|Winner Country|Winner Score|  scorer 1|        scorer 2| scorer 3|scorer 4|scorer 5|scorer 6|  scorer 7|Finalist Score|opponent scorer 1|opponent scorer 2|opponent scorer 3|           Finalist|Finalist Country|               Venue|Attendance|         Best Scorer|Country Scorer|         Club Scorer|Goals|\n",
      "+------+-----------------+--------------+------------+----------+----------------+---------+--------+--------+--------+----------+--------------+-----------------+-----------------+-----------------+-------------------+----------------+--------------------+----------+--------------------+--------------+--------------------+-----+\n",
      "|  1956|      Real Madrid|         Spain|           4|Di Stefano|            Rial|Marquitos|    Rial|    null|    null|      null|             3|          Leblond|          Templin|          Hidalgo|     Stade de Reims|          France|France Parc des P...|     38239| MiloÅ¡ MilutinoviÄ‡|    Yugoslavia|FK Partizan Belgrade|    8|\n",
      "|  1957|      Real Madrid|         Spain|           2|Di Stefano|           Gento|     null|    null|    null|    null|      null|             0|             null|             null|             null|         Fiorentina|           Italy|Spain Santiago Be...|    124000|      Dennis Viollet|       England|   Manchester United|    9|\n",
      "|  1958|      Real Madrid|         Spain|           3|Di Stefano|            Rial|    Gento|    null|    null|    null|      null|             2|       Schiaffino|           Grillo|             null|              Milan|           Italy|Belgium Heysel St...|     67000| Alfredo Di StÃ©fano|         Spain|         Real Madrid|   10|\n",
      "|  1959|      Real Madrid|         Spain|           2|    Mateos|      Di Stefano|     null|    null|    null|    null|      null|             0|             null|             null|             null|     Stade de Reims|          France|West Germany Neck...|     72000|       Just Fountain|        France|       Reims Stadium|   10|\n",
      "|  1960|      Real Madrid|         Spain|           7|Di Stefano|      Di Stefano|   Puskas|  Puskas|  Puskas|  Puskas|Di Stefano|             3|           Kreiss|            Stein|            Stein|Eintracht Frankfurt|    West Germany|Scotland Hampden ...|    127621|      Ferenc PuskÃ¡s|       Hungary|         Real Madrid|   12|\n",
      "|  1961|          Benfica|      Portugal|           3|     Aguas|Ramallets (o.g.)|   Coluna|    null|    null|    null|      null|             2|           Kocsis|           Czibor|             null|          Barcelona|           Spain|Switzerland Wankd...|     26732|        JosÃ© Ãguas|      Portugal|             Benfica|   11|\n",
      "|  1962|          Benfica|      Portugal|           5|     Aguas|           Cavem|   Coluna| Eusebio| Eusebio|    null|      null|             3|           Puskas|           Puskas|           Puskas|        Real Madrid|           Spain|Netherlands Olymp...|     61257|        Heinz Strehl|  West Germany|     1. FC Nuremberg|    8|\n",
      "|  1963|            Milan|         Italy|           2|  Altafini|        Altafini|     null|    null|    null|    null|      null|             1|          Eusebio|             null|             null|            Benfica|        Portugal|England Wembley S...|     45715|      JosÃ© Altafini|         Italy|            AC Milan|   14|\n",
      "|  1964|   Internazionale|         Italy|           3|   Mazzola|          Milani|  Mazzola|    null|    null|    null|      null|             1|             Felo|             null|             null|        Real Madrid|           Spain|Austria Prater St...|     71333|Vladimir KovaÄeviÄ‡|    Yugoslavia| FK Partizan Belg...|    7|\n",
      "|  1965|   Internazionale|         Italy|           1|      Jair|            null|     null|    null|    null|    null|      null|             0|             null|             null|             null|            Benfica|        Portugal|Italy San Siro, M...|     89000|             Eusebio|      Portugal|             Benfica|    9|\n",
      "|  1966|      Real Madrid|         Spain|           2|   Amancio|          Serena|     null|    null|    null|    null|      null|             1|          Vasovic|             null|             null|           Partizan|      Yugoslavia|Belgium Heysel St...|     46745|             Eusebio|      Portugal|             Benfica|    7|\n",
      "|  1967|           Celtic|      Scotland|           2|   Gemmell|        Chalmers|     null|    null|    null|    null|      null|             1|          Mazzola|             null|             null|     Internazionale|           Italy|Portugal EstÃ¡dio...|     45000|      Paul Van Himst|       Belgium|      RSC Anderlecht|    6|\n",
      "|  1968|Manchester United|       England|           4|  Charlton|            Best|     Kidd|Charlton|    null|    null|      null|             1|            Graca|             null|             null|            Benfica|        Portugal|England Wembley S...|     92225|             Eusebio|      Portugal|             Benfica|    6|\n",
      "|  1969|            Milan|         Italy|           3|     Prati|           Prati|  Sormani|   Prati|    null|    null|      null|             1|          Vasovic|             null|             null|               Ajax|     Netherlands|Spain Santiago Be...|     31782|          Dennis Law|      Scotland|   Manchester United|    9|\n",
      "|  1970|        Feyenoord|   Netherlands|           2|    Israel|        Kindvall|     null|    null|    null|    null|      null|             1|          Gemmell|             null|             null|             Celtic|        Scotland|Italy San Siro, M...|     53187|          Mick Jones|       England|        Leeds United|    8|\n",
      "|  1971|             Ajax|   Netherlands|           2|  van Dijk|            Haan|     null|    null|    null|    null|      null|             0|             null|             null|             null|      Panathinaikos|          Greece|England Wembley S...|     83179|  Antonis Antoniadis|        Greece|       Panathinaikos|   10|\n",
      "|  1972|             Ajax|   Netherlands|           2|    Cruyff|          Cruyff|     null|    null|    null|    null|      null|             0|             null|             null|             null|     Internazionale|           Italy|Netherlands De Ku...|     61354|    Silvester TakaÄ|    Yugoslavia|      Standard Liege|    5|\n",
      "|  1973|             Ajax|   Netherlands|           1|       Rep|            null|     null|    null|    null|    null|      null|             0|             null|             null|             null|           Juventus|           Italy|Socialist Federal...|     89484|        Gerd MÃ¼ller|  West Germany|       Bayern Munich|   11|\n",
      "|  1974|    Bayern Munich|  West Germany|           4|   Hoeness|          Muller|  Hoeness|  Muller|    null|    null|      null|             0|             null|             null|             null|   AtlÃ©tico Madrid|           Spain|Belgium Heysel St...|     72047|        Gerd MÃ¼ller|  West Germany|       Bayern Munich|    8|\n",
      "|  1975|    Bayern Munich|  West Germany|           2|      Roth|          Muller|     null|    null|    null|    null|      null|             0|             null|             null|             null|       Leeds United|         England|France Parc des P...|     48374|         Gerd Muller|  West Germany|       Bayern Munich|    5|\n",
      "+------+-----------------+--------------+------------+----------+----------------+---------+--------+--------+--------+----------+--------------+-----------------+-----------------+-----------------+-------------------+----------------+--------------------+----------+--------------------+--------------+--------------------+-----+\n",
      "only showing top 20 rows\n",
      "\n"
     ]
    }
   ],
   "source": [
    "#Affichage du résultat du DataFrame champions_league\n",
    "champions_league.show()"
   ]
  },
  {
   "cell_type": "code",
   "execution_count": 128,
   "metadata": {},
   "outputs": [
    {
     "data": {
      "text/plain": [
       "DataFrame[Season: int, Winner: string, Winner Country: string, Winner Score: int, scorer 1: string, scorer 2: string, scorer 3: string, scorer 4: string, scorer 5: string, scorer 6: string, scorer 7: string, Finalist Score: int, opponent scorer 1: string, opponent scorer 2: string, opponent scorer 3: string, Finalist: string, Finalist Country: string, Venue: string, Attendance: int, Best Scorer: string, Country Scorer: string, Club Scorer: string, Goals: int]"
      ]
     },
     "execution_count": 128,
     "metadata": {},
     "output_type": "execute_result"
    }
   ],
   "source": [
    "champions_league"
   ]
  },
  {
   "cell_type": "code",
   "execution_count": 129,
   "metadata": {},
   "outputs": [
    {
     "name": "stdout",
     "output_type": "stream",
     "text": [
      "root\n",
      " |-- Season: integer (nullable = true)\n",
      " |-- Winner: string (nullable = true)\n",
      " |-- Winner Country: string (nullable = true)\n",
      " |-- Winner Score: integer (nullable = true)\n",
      " |-- scorer 1: string (nullable = true)\n",
      " |-- scorer 2: string (nullable = true)\n",
      " |-- scorer 3: string (nullable = true)\n",
      " |-- scorer 4: string (nullable = true)\n",
      " |-- scorer 5: string (nullable = true)\n",
      " |-- scorer 6: string (nullable = true)\n",
      " |-- scorer 7: string (nullable = true)\n",
      " |-- Finalist Score: integer (nullable = true)\n",
      " |-- opponent scorer 1: string (nullable = true)\n",
      " |-- opponent scorer 2: string (nullable = true)\n",
      " |-- opponent scorer 3: string (nullable = true)\n",
      " |-- Finalist: string (nullable = true)\n",
      " |-- Finalist Country: string (nullable = true)\n",
      " |-- Venue: string (nullable = true)\n",
      " |-- Attendance: integer (nullable = true)\n",
      " |-- Best Scorer: string (nullable = true)\n",
      " |-- Country Scorer: string (nullable = true)\n",
      " |-- Club Scorer: string (nullable = true)\n",
      " |-- Goals: integer (nullable = true)\n",
      "\n"
     ]
    }
   ],
   "source": [
    "#Schema avec arborescence du DataFrame champions_league\n",
    "champions_league.printSchema()"
   ]
  },
  {
   "cell_type": "code",
   "execution_count": null,
   "metadata": {},
   "outputs": [],
   "source": []
  },
  {
   "cell_type": "code",
   "execution_count": 130,
   "metadata": {},
   "outputs": [
    {
     "name": "stderr",
     "output_type": "stream",
     "text": [
      "[Stage 133:>                                                        (0 + 1) / 1]\r"
     ]
    },
    {
     "name": "stdout",
     "output_type": "stream",
     "text": [
      "+----+----+------------------+--------------------+----------------+------+---+---+---+---+---+-----+-------+------+-------+------+------+-----------------+--------------+------------+--------------+----------+---------+--------+--------+--------+--------+--------------+-----------------+-----------------+-----------------+----------------+----------------+--------------------+----------+-------------------+--------------+--------------------+-----+\n",
      "|Year|Rank|            Player|                Club|     Nationality|Points| P1| P2| P3| P4| P5|Votes|RankPts| Share|Percent| Voted|Season|           Winner|Winner Country|Winner Score|      scorer 1|  scorer 2| scorer 3|scorer 4|scorer 5|scorer 6|scorer 7|Finalist Score|opponent scorer 1|opponent scorer 2|opponent scorer 3|        Finalist|Finalist Country|               Venue|Attendance|        Best Scorer|Country Scorer|         Club Scorer|Goals|\n",
      "+----+----+------------------+--------------------+----------------+------+---+---+---+---+---+-----+-------+------+-------+------+------+-----------------+--------------+------------+--------------+----------+---------+--------+--------+--------+--------+--------------+-----------------+-----------------+-----------------+----------------+----------------+--------------------+----------+-------------------+--------------+--------------------+-----+\n",
      "|1956|   3|      Raymond Kopa|      Real Madrid CF|          France|    33|  1|  2|  3|  5|  1|   12|   16.7|0.1375| 0.4125|  0.75|  2005|        Liverpool|       England|           3|        Gerard|    Smicer|   Alonso|    null|    null|    null|    null|             3|          Maldini|           Crespo|           Crespo|           Milan|           Italy|Turkey AtatÃ¼rk O...|     69000|Ruud van Nistelrooy|   Netherlands|   Manchester United|    8|\n",
      "|1956|   6|     József Bozsik|              Honvéd|         Hungary|    15|  0|  3|  1|  0|  0|    4|    8.3|0.0625| 0.1875|  0.25|  1973|             Ajax|   Netherlands|           1|           Rep|      null|     null|    null|    null|    null|    null|             0|             null|             null|             null|        Juventus|           Italy|Socialist Federal...|     89484|       Gerd MÃ¼ller|  West Germany|       Bayern Munich|   11|\n",
      "|1956|   7|      Ernst Ocwirk|           Sampdoria|         Austria|     9|  0|  0|  2|  0|  3|    5|    7.1|0.0375| 0.1125|0.3125|  1984|        Liverpool|       England|           1|          Neal|      null|     null|    null|    null|    null|    null|             1|           Pruzzo|             null|             null|            Roma|           Italy|Italy Stadio Olim...|     69693|       Victor Sokol|  Soviet Union|     FK Dynamo Minsk|    6|\n",
      "|1956|   9|   Thadée Cisowski|   Racing Club Paris|          France|     4|  0|  1|  0|  0|  0|    1|    5.6|0.0167|   0.05|0.0625|  2005|        Liverpool|       England|           3|        Gerard|    Smicer|   Alonso|    null|    null|    null|    null|             3|          Maldini|           Crespo|           Crespo|           Milan|           Italy|Turkey AtatÃ¼rk O...|     69000|Ruud van Nistelrooy|   Netherlands|   Manchester United|    8|\n",
      "|1957|   6|      John Charles|            Juventus|           Wales|    14|  1|  1|  1|  1|  0|    4|    8.3|0.0581| 0.1743|  0.25|  1958|      Real Madrid|         Spain|           3|    Di Stefano|      Rial|    Gento|    null|    null|    null|    null|             2|       Schiaffino|           Grillo|             null|           Milan|           Italy|Belgium Heysel St...|     67000|Alfredo Di StÃ©fano|         Spain|         Real Madrid|   10|\n",
      "|1957|   9|     József Bozsik|              Honvéd|         Hungary|     9|  1|  0|  0|  2|  0|    3|    5.6|0.0373|  0.112|0.1875|  1987|            Porto|      Portugal|           2|        Madjer|     Juary|     null|    null|    null|    null|    null|             1|             Kogl|             null|             null|   Bayern Munich|    West Germany|Austria Prater St...|     57500|Borislav CvetkoviÄ‡|    Yugoslavia|Red Star of Belgrade|    7|\n",
      "|1957|  12|     Gyula Grosics|           Tatabánya|         Hungary|     7|  0|  1|  0|  1|  1|    3|    4.2| 0.029| 0.0871|0.1875|  1992|        Barcelona|         Spain|           1|        Koeman|      null|     null|    null|    null|    null|    null|             0|             null|             null|             null|       Sampdoria|           Italy|England Wembley S...|     70827|  Jean-Pierre Papin|        France|   Olympic Marseille|    7|\n",
      "|1957|  14|Danny Blanchflower|   Tottenham Hotspur|Northern Ireland|     4|  0|  0|  1|  0|  1|    2|    3.6|0.0166| 0.0498| 0.125|  1994|            Milan|         Italy|           4|       Massero|   Massero|Savicevic|Desailly|    null|    null|    null|             0|             null|             null|             null|       Barcelona|           Spain|Greece Olympic St...|     70000|      Ronald Koeman|   Netherlands|        FC Barcelona|    8|\n",
      "|1957|  17|   Gerhard Hanappi|          Rapid Wien|         Austria|     3|  0|  0|  0|  1|  1|    2|    2.9|0.0124| 0.0373| 0.125|  1988|    PSV Eindhoven|   Netherlands|           0|          null|      null|     null|    null|    null|    null|    null|             0|             null|             null|             null|         Benfica|        Portugal|West Germany Neck...|     68000|         Rui Ãguas|      Portugal|             Benfica|    4|\n",
      "|1958|   4|      John Charles|            Juventus|           Wales|    15|  0|  2|  1|  1|  2|    6|   12.5|0.0625| 0.1875| 0.375|  2000|      Real Madrid|         Spain|           3|     Morientes| McManaman|     Raul|    null|    null|    null|    null|             0|             null|             null|             null|        Valencia|           Spain|France Stade de F...|     80000|            Rivaldo|        Brazil|        FC Barcelone|   10|\n",
      "|1958|   4|      John Charles|            Juventus|           Wales|    15|  0|  2|  1|  1|  2|    6|   12.5|0.0625| 0.1875| 0.375|  2014|      Real Madrid|         Spain|           4|         Ramos|      Bale|  Marcelo| Ronaldo|    null|    null|    null|             1|            Godin|             null|             null|AtlÃ©tico Madrid|           Spain|Portugal EstÃ¡dio...|     60976|  Cristiano Ronaldo|      Portugal|         Real Madrid|   17|\n",
      "|1958|   6|      Billy Wright|Wolverhampton Wan...|         England|     9|  0|  1|  1|  0|  2|    4|    8.3|0.0375| 0.1125|  0.25|  1965|   Internazionale|         Italy|           1|          Jair|      null|     null|    null|    null|    null|    null|             0|             null|             null|             null|         Benfica|        Portugal|Italy San Siro, M...|     89000|            Eusebio|      Portugal|             Benfica|    9|\n",
      "|1958|   8|       Harry Gregg|   Manchester United|Northern Ireland|     6|  1|  0|  0|  0|  1|    2|    6.3| 0.025|  0.075| 0.125|  1992|        Barcelona|         Spain|           1|        Koeman|      null|     null|    null|    null|    null|    null|             0|             null|             null|             null|       Sampdoria|           Italy|England Wembley S...|     70827|  Jean-Pierre Papin|        France|   Olympic Marseille|    7|\n",
      "|1958|   8|   Horst Szymaniak|      Wuppertaler SV|    West Germany|     6|  0|  1|  0|  1|  0|    2|    6.3| 0.025|  0.075| 0.125|  1976|    Bayern Munich|  West Germany|           1|          Roth|      null|     null|    null|    null|    null|    null|             0|             null|             null|             null|  Saint-Ã‰tienne|          France|Scotland Hampden ...|     54864|      Jupp Heynckes|  West Germany|Borussia MÃ¶nchen...|    6|\n",
      "|1958|   8|   Horst Szymaniak|      Wuppertaler SV|    West Germany|     6|  0|  1|  0|  1|  0|    2|    6.3| 0.025|  0.075| 0.125|  1981|        Liverpool|       England|           1|       Kennedy|      null|     null|    null|    null|    null|    null|             0|             null|             null|             null|     Real Madrid|           Spain|France Parc des P...|     48360|         Karl-Heinz|  West Germany|       Bayern Munich|    6|\n",
      "|1958|   8|   Horst Szymaniak|      Wuppertaler SV|    West Germany|     6|  0|  1|  0|  1|  0|    2|    6.3| 0.025|  0.075| 0.125|  2004|            Porto|      Portugal|           3|Carlos Alberto|      Deco|Alenichev|    null|    null|    null|    null|             0|             null|             null|             null|          Monaco|          France|Germany Arena Auf...|     53053| Fernando Morientes|         Spain|           AS Monaco|    9|\n",
      "|1958|  14|    Vujadin Boškov|           Vojvodina|      Yugoslavia|     3|  0|  0|  1|  0|  0|    1|    3.6|0.0125| 0.0375|0.0625|  2008|Manchester United|       England|           1|       Ronaldo|      null|     null|    null|    null|    null|    null|             1|          Lampard|             null|             null|         Chelsea|         England|Russia Luzhniki S...|     67310|  Cristiano Ronaldo|      Portugal|   Manchester United|    8|\n",
      "|1958|  14|  Bengt Gustavsson|            Atalanta|          Sweden|     3|  0|  0|  1|  0|  0|    1|    3.6|0.0125| 0.0375|0.0625|  1971|             Ajax|   Netherlands|           2|      van Dijk|      Haan|     null|    null|    null|    null|    null|             0|             null|             null|             null|   Panathinaikos|          Greece|England Wembley S...|     83179| Antonis Antoniadis|        Greece|       Panathinaikos|   10|\n",
      "|1958|  19|        Ivan Kolev|          CDNA Sofia|        Bulgaria|     2|  0|  0|  0|  1|  0|    1|    2.6|0.0083|  0.025|0.0625|  2010|   Internazionale|         Italy|           2|        Milito|    Milito|     null|    null|    null|    null|    null|             0|             null|             null|             null|   Bayern Munich|         Germany|Spain Santiago Be...|     73490|       Lionel Messi|     Argentina|        FC Barcelona|    8|\n",
      "|1958|  19|    Ladislav Novák|         Dukla Praha|  Czechoslovakia|     2|  0|  0|  0|  1|  0|    1|    2.6|0.0083|  0.025|0.0625|  1959|      Real Madrid|         Spain|           2|        Mateos|Di Stefano|     null|    null|    null|    null|    null|             0|             null|             null|             null|  Stade de Reims|          France|West Germany Neck...|     72000|      Just Fountain|        France|       Reims Stadium|   10|\n",
      "+----+----+------------------+--------------------+----------------+------+---+---+---+---+---+-----+-------+------+-------+------+------+-----------------+--------------+------------+--------------+----------+---------+--------+--------+--------+--------+--------------+-----------------+-----------------+-----------------+----------------+----------------+--------------------+----------+-------------------+--------------+--------------------+-----+\n",
      "only showing top 20 rows\n",
      "\n"
     ]
    },
    {
     "name": "stderr",
     "output_type": "stream",
     "text": [
      "                                                                                \r"
     ]
    }
   ],
   "source": [
    "path='C:\\cours M1\\spark-docker\\spark-cluster\\pak\\foot'\n",
    "#Créer un Dataframe  résultat de la cocaténation des deux autres Dataframes avec pour nom 'all_data'\n",
    "\n",
    "all_data=BallonDOr.join(champions_league).distinct().show()"
   ]
  },
  {
   "cell_type": "code",
   "execution_count": null,
   "metadata": {},
   "outputs": [],
   "source": [
    "\n",
    "\n",
    "\n"
   ]
  },
  {
   "cell_type": "code",
   "execution_count": 131,
   "metadata": {},
   "outputs": [
    {
     "name": "stdout",
     "output_type": "stream",
     "text": [
      "+----+----+------------------+-----------------------+------------+------+---+---+---+---+---+-----+-------+------+-------+------+------+-----------+--------------+------------+----------+--------+---------+--------+--------+--------+--------+--------------+-----------------+-----------------+-----------------+--------------+----------------+------------------------------+----------+--------------------+--------------+--------------------+-----+\n",
      "|Year|Rank|Player            |Club                   |Nationality |Points|P1 |P2 |P3 |P4 |P5 |Votes|RankPts|Share |Percent|Voted |Season|Winner     |Winner Country|Winner Score|scorer 1  |scorer 2|scorer 3 |scorer 4|scorer 5|scorer 6|scorer 7|Finalist Score|opponent scorer 1|opponent scorer 2|opponent scorer 3|Finalist      |Finalist Country|Venue                         |Attendance|Best Scorer         |Country Scorer|Club Scorer         |Goals|\n",
      "+----+----+------------------+-----------------------+------------+------+---+---+---+---+---+-----+-------+------+-------+------+------+-----------+--------------+------------+----------+--------+---------+--------+--------+--------+--------+--------------+-----------------+-----------------+-----------------+--------------+----------------+------------------------------+----------+--------------------+--------------+--------------------+-----+\n",
      "|1956|1   |Stanley Matthews  |Blackpool              |England     |47    |6  |2  |2  |1  |1  |12   |50.0   |0.1958|0.5875 |0.75  |1956  |Real Madrid| Spain        |4           |Di Stefano|Rial    |Marquitos|Rial    |null    |null    |null    |3             |Leblond          |Templin          |Hidalgo          |Stade de Reims| France         |France Parc des Princes, Paris|38239     | MiloÅ¡ MilutinoviÄ‡|Yugoslavia    |FK Partizan Belgrade|8    |\n",
      "|1956|2   |Alfredo Di Stéfano|Real Madrid CF         |Spain       |44    |5  |3  |2  |0  |1  |11   |25.0   |0.1833|0.55   |0.6875|1956  |Real Madrid| Spain        |4           |Di Stefano|Rial    |Marquitos|Rial    |null    |null    |null    |3             |Leblond          |Templin          |Hidalgo          |Stade de Reims| France         |France Parc des Princes, Paris|38239     | MiloÅ¡ MilutinoviÄ‡|Yugoslavia    |FK Partizan Belgrade|8    |\n",
      "|1956|3   |Raymond Kopa      |Real Madrid CF         |France      |33    |1  |2  |3  |5  |1  |12   |16.7   |0.1375|0.4125 |0.75  |1956  |Real Madrid| Spain        |4           |Di Stefano|Rial    |Marquitos|Rial    |null    |null    |null    |3             |Leblond          |Templin          |Hidalgo          |Stade de Reims| France         |France Parc des Princes, Paris|38239     | MiloÅ¡ MilutinoviÄ‡|Yugoslavia    |FK Partizan Belgrade|8    |\n",
      "|1956|4   |Ferenc Puskás     |Honvéd                 |Hungary     |32    |3  |3  |1  |1  |0  |8    |12.5   |0.1333|0.4    |0.5   |1956  |Real Madrid| Spain        |4           |Di Stefano|Rial    |Marquitos|Rial    |null    |null    |null    |3             |Leblond          |Templin          |Hidalgo          |Stade de Reims| France         |France Parc des Princes, Paris|38239     | MiloÅ¡ MilutinoviÄ‡|Yugoslavia    |FK Partizan Belgrade|8    |\n",
      "|1956|5   |Lev Yashin        |Dynamo Moskva          |Soviet Union|19    |0  |2  |2  |1  |3  |8    |10.0   |0.0792|0.2375 |0.5   |1956  |Real Madrid| Spain        |4           |Di Stefano|Rial    |Marquitos|Rial    |null    |null    |null    |3             |Leblond          |Templin          |Hidalgo          |Stade de Reims| France         |France Parc des Princes, Paris|38239     | MiloÅ¡ MilutinoviÄ‡|Yugoslavia    |FK Partizan Belgrade|8    |\n",
      "|1956|6   |József Bozsik     |Honvéd                 |Hungary     |15    |0  |3  |1  |0  |0  |4    |8.3    |0.0625|0.1875 |0.25  |1956  |Real Madrid| Spain        |4           |Di Stefano|Rial    |Marquitos|Rial    |null    |null    |null    |3             |Leblond          |Templin          |Hidalgo          |Stade de Reims| France         |France Parc des Princes, Paris|38239     | MiloÅ¡ MilutinoviÄ‡|Yugoslavia    |FK Partizan Belgrade|8    |\n",
      "|1956|7   |Ernst Ocwirk      |Sampdoria              |Austria     |9     |0  |0  |2  |0  |3  |5    |7.1    |0.0375|0.1125 |0.3125|1956  |Real Madrid| Spain        |4           |Di Stefano|Rial    |Marquitos|Rial    |null    |null    |null    |3             |Leblond          |Templin          |Hidalgo          |Stade de Reims| France         |France Parc des Princes, Paris|38239     | MiloÅ¡ MilutinoviÄ‡|Yugoslavia    |FK Partizan Belgrade|8    |\n",
      "|1956|8   |Sándor Kocsis     |Honvéd                 |Hungary     |6     |1  |0  |0  |0  |1  |2    |6.3    |0.025 |0.075  |0.125 |1956  |Real Madrid| Spain        |4           |Di Stefano|Rial    |Marquitos|Rial    |null    |null    |null    |3             |Leblond          |Templin          |Hidalgo          |Stade de Reims| France         |France Parc des Princes, Paris|38239     | MiloÅ¡ MilutinoviÄ‡|Yugoslavia    |FK Partizan Belgrade|8    |\n",
      "|1956|9   |Thadée Cisowski   |Racing Club Paris      |France      |4     |0  |1  |0  |0  |0  |1    |5.6    |0.0167|0.05   |0.0625|1956  |Real Madrid| Spain        |4           |Di Stefano|Rial    |Marquitos|Rial    |null    |null    |null    |3             |Leblond          |Templin          |Hidalgo          |Stade de Reims| France         |France Parc des Princes, Paris|38239     | MiloÅ¡ MilutinoviÄ‡|Yugoslavia    |FK Partizan Belgrade|8    |\n",
      "|1956|9   |Ivan Kolev        |CDNA Sofia             |Bulgaria    |4     |0  |0  |1  |0  |1  |2    |5.6    |0.0167|0.05   |0.125 |1956  |Real Madrid| Spain        |4           |Di Stefano|Rial    |Marquitos|Rial    |null    |null    |null    |3             |Leblond          |Templin          |Hidalgo          |Stade de Reims| France         |France Parc des Princes, Paris|38239     | MiloÅ¡ MilutinoviÄ‡|Yugoslavia    |FK Partizan Belgrade|8    |\n",
      "|1956|9   |Billy Wright      |Wolverhampton Wanderers|England     |4     |0  |0  |1  |0  |1  |2    |5.6    |0.0167|0.05   |0.125 |1956  |Real Madrid| Spain        |4           |Di Stefano|Rial    |Marquitos|Rial    |null    |null    |null    |3             |Leblond          |Templin          |Hidalgo          |Stade de Reims| France         |France Parc des Princes, Paris|38239     | MiloÅ¡ MilutinoviÄ‡|Yugoslavia    |FK Partizan Belgrade|8    |\n",
      "|1956|12  |Julinho           |Fiorentina             |Italy       |3     |0  |0  |1  |0  |0  |1    |4.2    |0.0125|0.0375 |0.0625|1956  |Real Madrid| Spain        |4           |Di Stefano|Rial    |Marquitos|Rial    |null    |null    |null    |3             |Leblond          |Templin          |Hidalgo          |Stade de Reims| France         |France Parc des Princes, Paris|38239     | MiloÅ¡ MilutinoviÄ‡|Yugoslavia    |FK Partizan Belgrade|8    |\n",
      "|1956|13  |Stefan Bozhkov    |CDNA Sofia             |Bulgaria    |2     |0  |0  |0  |1  |0  |1    |3.8    |0.0083|0.025  |0.0625|1956  |Real Madrid| Spain        |4           |Di Stefano|Rial    |Marquitos|Rial    |null    |null    |null    |3             |Leblond          |Templin          |Hidalgo          |Stade de Reims| France         |France Parc des Princes, Paris|38239     | MiloÅ¡ MilutinoviÄ‡|Yugoslavia    |FK Partizan Belgrade|8    |\n",
      "|1956|13  |Duncan Edwards    |Manchester United      |England     |2     |0  |0  |0  |1  |0  |1    |3.8    |0.0083|0.025  |0.0625|1956  |Real Madrid| Spain        |4           |Di Stefano|Rial    |Marquitos|Rial    |null    |null    |null    |3             |Leblond          |Templin          |Hidalgo          |Stade de Reims| France         |France Parc des Princes, Paris|38239     | MiloÅ¡ MilutinoviÄ‡|Yugoslavia    |FK Partizan Belgrade|8    |\n",
      "|1956|13  |Gerhard Hanappi   |Rapid Wien             |Austria     |2     |0  |0  |0  |1  |0  |1    |3.8    |0.0083|0.025  |0.0625|1956  |Real Madrid| Spain        |4           |Di Stefano|Rial    |Marquitos|Rial    |null    |null    |null    |3             |Leblond          |Templin          |Hidalgo          |Stade de Reims| France         |France Parc des Princes, Paris|38239     | MiloÅ¡ MilutinoviÄ‡|Yugoslavia    |FK Partizan Belgrade|8    |\n",
      "|1956|13  |Robert Jonquet    |Stade de Reims         |France      |2     |0  |0  |0  |1  |0  |1    |3.8    |0.0083|0.025  |0.0625|1956  |Real Madrid| Spain        |4           |Di Stefano|Rial    |Marquitos|Rial    |null    |null    |null    |3             |Leblond          |Templin          |Hidalgo          |Stade de Reims| France         |France Parc des Princes, Paris|38239     | MiloÅ¡ MilutinoviÄ‡|Yugoslavia    |FK Partizan Belgrade|8    |\n",
      "|1956|13  |Miguel Montuori   |Fiorentina             |Italy       |2     |0  |0  |0  |1  |0  |1    |3.8    |0.0083|0.025  |0.0625|1956  |Real Madrid| Spain        |4           |Di Stefano|Rial    |Marquitos|Rial    |null    |null    |null    |3             |Leblond          |Templin          |Hidalgo          |Stade de Reims| France         |France Parc des Princes, Paris|38239     | MiloÅ¡ MilutinoviÄ‡|Yugoslavia    |FK Partizan Belgrade|8    |\n",
      "|1956|13  |Pepillo           |Sevilla                |Spain       |2     |0  |0  |0  |1  |0  |1    |3.8    |0.0083|0.025  |0.0625|1956  |Real Madrid| Spain        |4           |Di Stefano|Rial    |Marquitos|Rial    |null    |null    |null    |3             |Leblond          |Templin          |Hidalgo          |Stade de Reims| France         |France Parc des Princes, Paris|38239     | MiloÅ¡ MilutinoviÄ‡|Yugoslavia    |FK Partizan Belgrade|8    |\n",
      "|1956|13  |Juan Schiaffino   |Milan                  |Italy       |2     |0  |0  |0  |1  |0  |1    |3.8    |0.0083|0.025  |0.0625|1956  |Real Madrid| Spain        |4           |Di Stefano|Rial    |Marquitos|Rial    |null    |null    |null    |3             |Leblond          |Templin          |Hidalgo          |Stade de Reims| France         |France Parc des Princes, Paris|38239     | MiloÅ¡ MilutinoviÄ‡|Yugoslavia    |FK Partizan Belgrade|8    |\n",
      "|1956|13  |Eduard Streltsov  |Torpedo Moscow         |Soviet Union|2     |0  |0  |0  |1  |0  |1    |3.8    |0.0083|0.025  |0.0625|1956  |Real Madrid| Spain        |4           |Di Stefano|Rial    |Marquitos|Rial    |null    |null    |null    |3             |Leblond          |Templin          |Hidalgo          |Stade de Reims| France         |France Parc des Princes, Paris|38239     | MiloÅ¡ MilutinoviÄ‡|Yugoslavia    |FK Partizan Belgrade|8    |\n",
      "+----+----+------------------+-----------------------+------------+------+---+---+---+---+---+-----+-------+------+-------+------+------+-----------+--------------+------------+----------+--------+---------+--------+--------+--------+--------+--------------+-----------------+-----------------+-----------------+--------------+----------------+------------------------------+----------+--------------------+--------------+--------------------+-----+\n",
      "only showing top 20 rows\n",
      "\n"
     ]
    }
   ],
   "source": [
    "all_data= BallonDOr.join(champions_league, BallonDOr.Year == champions_league.Season,\"inner\")\n",
    "all_data.show(truncate=False)\n"
   ]
  },
  {
   "cell_type": "code",
   "execution_count": 132,
   "metadata": {},
   "outputs": [
    {
     "name": "stdout",
     "output_type": "stream",
     "text": [
      "+----+------------------+--------------------+------------+------+------+-----------+--------------+------------+--------------+--------------+----------------+--------------------+----------+--------------------+--------------+--------------------+-----+\n",
      "|Rank|            Player|                Club| Nationality|Points|Season|     Winner|Winner Country|Winner Score|Finalist Score|      Finalist|Finalist Country|               Venue|Attendance|         Best Scorer|Country Scorer|         Club Scorer|Goals|\n",
      "+----+------------------+--------------------+------------+------+------+-----------+--------------+------------+--------------+--------------+----------------+--------------------+----------+--------------------+--------------+--------------------+-----+\n",
      "|   1|  Stanley Matthews|           Blackpool|     England|    47|  1956|Real Madrid|         Spain|           4|             3|Stade de Reims|          France|France Parc des P...|     38239| MiloÅ¡ MilutinoviÄ‡|    Yugoslavia|FK Partizan Belgrade|    8|\n",
      "|   2|Alfredo Di Stéfano|      Real Madrid CF|       Spain|    44|  1956|Real Madrid|         Spain|           4|             3|Stade de Reims|          France|France Parc des P...|     38239| MiloÅ¡ MilutinoviÄ‡|    Yugoslavia|FK Partizan Belgrade|    8|\n",
      "|   3|      Raymond Kopa|      Real Madrid CF|      France|    33|  1956|Real Madrid|         Spain|           4|             3|Stade de Reims|          France|France Parc des P...|     38239| MiloÅ¡ MilutinoviÄ‡|    Yugoslavia|FK Partizan Belgrade|    8|\n",
      "|   4|     Ferenc Puskás|              Honvéd|     Hungary|    32|  1956|Real Madrid|         Spain|           4|             3|Stade de Reims|          France|France Parc des P...|     38239| MiloÅ¡ MilutinoviÄ‡|    Yugoslavia|FK Partizan Belgrade|    8|\n",
      "|   5|        Lev Yashin|       Dynamo Moskva|Soviet Union|    19|  1956|Real Madrid|         Spain|           4|             3|Stade de Reims|          France|France Parc des P...|     38239| MiloÅ¡ MilutinoviÄ‡|    Yugoslavia|FK Partizan Belgrade|    8|\n",
      "|   6|     József Bozsik|              Honvéd|     Hungary|    15|  1956|Real Madrid|         Spain|           4|             3|Stade de Reims|          France|France Parc des P...|     38239| MiloÅ¡ MilutinoviÄ‡|    Yugoslavia|FK Partizan Belgrade|    8|\n",
      "|   7|      Ernst Ocwirk|           Sampdoria|     Austria|     9|  1956|Real Madrid|         Spain|           4|             3|Stade de Reims|          France|France Parc des P...|     38239| MiloÅ¡ MilutinoviÄ‡|    Yugoslavia|FK Partizan Belgrade|    8|\n",
      "|   8|     Sándor Kocsis|              Honvéd|     Hungary|     6|  1956|Real Madrid|         Spain|           4|             3|Stade de Reims|          France|France Parc des P...|     38239| MiloÅ¡ MilutinoviÄ‡|    Yugoslavia|FK Partizan Belgrade|    8|\n",
      "|   9|   Thadée Cisowski|   Racing Club Paris|      France|     4|  1956|Real Madrid|         Spain|           4|             3|Stade de Reims|          France|France Parc des P...|     38239| MiloÅ¡ MilutinoviÄ‡|    Yugoslavia|FK Partizan Belgrade|    8|\n",
      "|   9|        Ivan Kolev|          CDNA Sofia|    Bulgaria|     4|  1956|Real Madrid|         Spain|           4|             3|Stade de Reims|          France|France Parc des P...|     38239| MiloÅ¡ MilutinoviÄ‡|    Yugoslavia|FK Partizan Belgrade|    8|\n",
      "|   9|      Billy Wright|Wolverhampton Wan...|     England|     4|  1956|Real Madrid|         Spain|           4|             3|Stade de Reims|          France|France Parc des P...|     38239| MiloÅ¡ MilutinoviÄ‡|    Yugoslavia|FK Partizan Belgrade|    8|\n",
      "|  12|           Julinho|          Fiorentina|       Italy|     3|  1956|Real Madrid|         Spain|           4|             3|Stade de Reims|          France|France Parc des P...|     38239| MiloÅ¡ MilutinoviÄ‡|    Yugoslavia|FK Partizan Belgrade|    8|\n",
      "|  13|    Stefan Bozhkov|          CDNA Sofia|    Bulgaria|     2|  1956|Real Madrid|         Spain|           4|             3|Stade de Reims|          France|France Parc des P...|     38239| MiloÅ¡ MilutinoviÄ‡|    Yugoslavia|FK Partizan Belgrade|    8|\n",
      "|  13|    Duncan Edwards|   Manchester United|     England|     2|  1956|Real Madrid|         Spain|           4|             3|Stade de Reims|          France|France Parc des P...|     38239| MiloÅ¡ MilutinoviÄ‡|    Yugoslavia|FK Partizan Belgrade|    8|\n",
      "|  13|   Gerhard Hanappi|          Rapid Wien|     Austria|     2|  1956|Real Madrid|         Spain|           4|             3|Stade de Reims|          France|France Parc des P...|     38239| MiloÅ¡ MilutinoviÄ‡|    Yugoslavia|FK Partizan Belgrade|    8|\n",
      "|  13|    Robert Jonquet|      Stade de Reims|      France|     2|  1956|Real Madrid|         Spain|           4|             3|Stade de Reims|          France|France Parc des P...|     38239| MiloÅ¡ MilutinoviÄ‡|    Yugoslavia|FK Partizan Belgrade|    8|\n",
      "|  13|   Miguel Montuori|          Fiorentina|       Italy|     2|  1956|Real Madrid|         Spain|           4|             3|Stade de Reims|          France|France Parc des P...|     38239| MiloÅ¡ MilutinoviÄ‡|    Yugoslavia|FK Partizan Belgrade|    8|\n",
      "|  13|           Pepillo|             Sevilla|       Spain|     2|  1956|Real Madrid|         Spain|           4|             3|Stade de Reims|          France|France Parc des P...|     38239| MiloÅ¡ MilutinoviÄ‡|    Yugoslavia|FK Partizan Belgrade|    8|\n",
      "|  13|   Juan Schiaffino|               Milan|       Italy|     2|  1956|Real Madrid|         Spain|           4|             3|Stade de Reims|          France|France Parc des P...|     38239| MiloÅ¡ MilutinoviÄ‡|    Yugoslavia|FK Partizan Belgrade|    8|\n",
      "|  13|  Eduard Streltsov|      Torpedo Moscow|Soviet Union|     2|  1956|Real Madrid|         Spain|           4|             3|Stade de Reims|          France|France Parc des P...|     38239| MiloÅ¡ MilutinoviÄ‡|    Yugoslavia|FK Partizan Belgrade|    8|\n",
      "+----+------------------+--------------------+------------+------+------+-----------+--------------+------------+--------------+--------------+----------------+--------------------+----------+--------------------+--------------+--------------------+-----+\n",
      "only showing top 20 rows\n",
      "\n"
     ]
    }
   ],
   "source": [
    "#supprimer des colonnes\n",
    "all_data=BallonDOr.join(champions_league, BallonDOr.Year == champions_league.Season,\"inner\")\\\n",
    ".drop(\"Year\",\"P1\",\"P2\",\"P3\",\"P4\",\"P5\",\"Votes\",\"RankPts\",\"Percent\",\"Share\",\"Voted\",\"scorer 1\",\"scorer 2\",\"scorer 3\",\"scorer 4\",\"scorer 5\",\"scorer 6\",\"scorer 7\",\"opponent scorer 1\",\"opponent scorer 2\",\"opponent scorer 3\")\n",
    "all_data.show()\n",
    "\n",
    "\n"
   ]
  },
  {
   "cell_type": "code",
   "execution_count": null,
   "metadata": {},
   "outputs": [],
   "source": []
  },
  {
   "cell_type": "code",
   "execution_count": null,
   "metadata": {},
   "outputs": [],
   "source": []
  },
  {
   "cell_type": "code",
   "execution_count": null,
   "metadata": {},
   "outputs": [],
   "source": []
  },
  {
   "cell_type": "code",
   "execution_count": 133,
   "metadata": {},
   "outputs": [
    {
     "name": "stdout",
     "output_type": "stream",
     "text": [
      "root\n",
      " |-- Rank: integer (nullable = true)\n",
      " |-- Player: string (nullable = true)\n",
      " |-- Club: string (nullable = true)\n",
      " |-- Nationality: string (nullable = true)\n",
      " |-- Points: integer (nullable = true)\n",
      " |-- Season: integer (nullable = true)\n",
      " |-- Winner: string (nullable = true)\n",
      " |-- Winner Country: string (nullable = true)\n",
      " |-- Winner Score: integer (nullable = true)\n",
      " |-- Finalist Score: integer (nullable = true)\n",
      " |-- Finalist: string (nullable = true)\n",
      " |-- Finalist Country: string (nullable = true)\n",
      " |-- Venue: string (nullable = true)\n",
      " |-- Attendance: integer (nullable = true)\n",
      " |-- Best Scorer: string (nullable = true)\n",
      " |-- Country Scorer: string (nullable = true)\n",
      " |-- Club Scorer: string (nullable = true)\n",
      " |-- Goals: integer (nullable = true)\n",
      "\n"
     ]
    }
   ],
   "source": [
    "all_data.printSchema()\n"
   ]
  },
  {
   "cell_type": "code",
   "execution_count": 134,
   "metadata": {},
   "outputs": [],
   "source": [
    "#Création du fichier csv all_data avec les noms des colonnes et supression des lignes inutiles\n",
    "\n",
    "all_data.where(all_data.Rank == 1).write.option(\"header\",True) \\\n",
    ".csv(\"foot/all_data\")\n",
    "\n",
    "\n"
   ]
  },
  {
   "cell_type": "code",
   "execution_count": 135,
   "metadata": {},
   "outputs": [],
   "source": [
    "all_data=spark.read.csv('./foot/all_data.csv',inferSchema=True, header=True)"
   ]
  },
  {
   "cell_type": "code",
   "execution_count": 136,
   "metadata": {},
   "outputs": [
    {
     "data": {
      "text/plain": [
       "[('Rank', 'int'),\n",
       " ('Player', 'string'),\n",
       " ('Club', 'string'),\n",
       " ('Nationality', 'string'),\n",
       " ('Points', 'int'),\n",
       " ('Season', 'int'),\n",
       " ('Winner', 'string'),\n",
       " ('Winner Country', 'string'),\n",
       " ('Winner Score', 'int'),\n",
       " ('Finalist Score', 'int'),\n",
       " ('Finalist', 'string'),\n",
       " ('Finalist Country', 'string'),\n",
       " ('Venue', 'string'),\n",
       " ('Attendance', 'int'),\n",
       " ('Best Scorer', 'string'),\n",
       " ('Country Scorer', 'string'),\n",
       " ('Club Scorer', 'string'),\n",
       " ('Goals', 'int')]"
      ]
     },
     "execution_count": 136,
     "metadata": {},
     "output_type": "execute_result"
    }
   ],
   "source": [
    "#Type des données du fichier all_data.csv\n",
    "all_data.dtypes"
   ]
  },
  {
   "cell_type": "code",
   "execution_count": 137,
   "metadata": {},
   "outputs": [
    {
     "data": {
      "text/plain": [
       "Row(Rank=1, Player='Stanley Matthews', Club='Blackpool', Nationality='England', Points=47, Season=1956, Winner='Real Madrid', Winner Country='Spain', Winner Score=4, Finalist Score=3, Finalist='Stade de Reims', Finalist Country='France', Venue='France Parc des Princes, Paris', Attendance=38239, Best Scorer='MiloÅ¡ MilutinoviÄ‡', Country Scorer='Yugoslavia', Club Scorer='FK Partizan Belgrade', Goals=8)"
      ]
     },
     "execution_count": 137,
     "metadata": {},
     "output_type": "execute_result"
    }
   ],
   "source": [
    "#Les 5 premières lignes du fichier all_data.csv\n",
    "all_data.head()"
   ]
  },
  {
   "cell_type": "code",
   "execution_count": 138,
   "metadata": {},
   "outputs": [
    {
     "data": {
      "text/plain": [
       "['Rank',\n",
       " 'Player',\n",
       " 'Club',\n",
       " 'Nationality',\n",
       " 'Points',\n",
       " 'Season',\n",
       " 'Winner',\n",
       " 'Winner Country',\n",
       " 'Winner Score',\n",
       " 'Finalist Score',\n",
       " 'Finalist',\n",
       " 'Finalist Country',\n",
       " 'Venue',\n",
       " 'Attendance',\n",
       " 'Best Scorer',\n",
       " 'Country Scorer',\n",
       " 'Club Scorer',\n",
       " 'Goals']"
      ]
     },
     "execution_count": 138,
     "metadata": {},
     "output_type": "execute_result"
    }
   ],
   "source": [
    "all_data.columns"
   ]
  },
  {
   "cell_type": "code",
   "execution_count": 139,
   "metadata": {},
   "outputs": [
    {
     "data": {
      "text/plain": [
       "[Row(avg(Winner Score)=2.0793650793650795)]"
      ]
     },
     "execution_count": 139,
     "metadata": {},
     "output_type": "execute_result"
    }
   ],
   "source": [
    "#Analyse univariée\n",
    "#Calculons la moyenne des buts marqués par le vainqueur en finale de Champions league\n",
    "all_data.agg({'Winner Score': 'mean'}).collect()\n",
    "\n",
    "\n"
   ]
  },
  {
   "cell_type": "code",
   "execution_count": 140,
   "metadata": {},
   "outputs": [
    {
     "data": {
      "text/plain": [
       "[Row(avg(Finalist Score)=0.6666666666666666)]"
      ]
     },
     "execution_count": 140,
     "metadata": {},
     "output_type": "execute_result"
    }
   ],
   "source": [
    "#Calculons la moyenne des buts marqués par le finaliste en finale de Champions league\n",
    "all_data.agg({'Finalist Score': 'mean'}).collect()"
   ]
  },
  {
   "cell_type": "code",
   "execution_count": 141,
   "metadata": {},
   "outputs": [
    {
     "data": {
      "text/plain": [
       "[Row(summary='count', Rank='63', Player='63', Club='63', Nationality='63', Points='58', Season='63', Winner='63', Winner Country='63', Winner Score='63', Finalist Score='63', Finalist='63', Finalist Country='63', Venue='63', Attendance='63', Best Scorer='63', Country Scorer='63', Club Scorer='63', Goals='63'),\n",
       " Row(summary='max', Rank='1', Player='Zinedine Zidane', Club='Real Madrid CF', Nationality='West Germany', Points='1840', Season='2018', Winner='Steaua BucureÈ™ti', Winner Country='Yugoslavia', Winner Score='7', Finalist Score='3', Finalist='Valencia', Finalist Country='Yugoslavia', Venue='West Germany Olympiastadion, Munich', Attendance='127621', Best Scorer='Vladimir KovaÄ\\uf18deviÄ‡', Country Scorer='Yugoslavia', Club Scorer='ajax Amsterdam', Goals='17')]"
      ]
     },
     "execution_count": 141,
     "metadata": {},
     "output_type": "execute_result"
    }
   ],
   "source": [
    "all_data.summary(\"count\", \"max\").collect()"
   ]
  },
  {
   "cell_type": "code",
   "execution_count": 142,
   "metadata": {},
   "outputs": [
    {
     "name": "stderr",
     "output_type": "stream",
     "text": [
      "[Stage 151:===================================================> (194 + 3) / 200]\r"
     ]
    },
    {
     "name": "stdout",
     "output_type": "stream",
     "text": [
      "+--------------+-----+\n",
      "|Winner Country|count|\n",
      "+--------------+-----+\n",
      "|         Spain|   18|\n",
      "|         Italy|   12|\n",
      "|       England|   12|\n",
      "|   Netherlands|    6|\n",
      "|      Portugal|    4|\n",
      "|  West Germany|    4|\n",
      "|       Germany|    3|\n",
      "|        France|    1|\n",
      "|       Romania|    1|\n",
      "|    Yugoslavia|    1|\n",
      "|      Scotland|    1|\n",
      "+--------------+-----+\n",
      "\n"
     ]
    },
    {
     "name": "stderr",
     "output_type": "stream",
     "text": [
      "                                                                                \r"
     ]
    }
   ],
   "source": [
    "#Le pays qui a remporté le plus de finale de Champions League\n",
    "\n",
    "all_data.groupBy(\"Winner Country\").count().sort('count', ascending = False).show()\n",
    "\n"
   ]
  },
  {
   "cell_type": "code",
   "execution_count": 144,
   "metadata": {},
   "outputs": [
    {
     "name": "stderr",
     "output_type": "stream",
     "text": [
      "[Stage 153:===========================================>         (166 + 3) / 200]\r"
     ]
    },
    {
     "name": "stdout",
     "output_type": "stream",
     "text": [
      "+-------------------+-----+\n",
      "|        Best Scorer|count|\n",
      "+-------------------+-----+\n",
      "|  Cristiano Ronaldo|    7|\n",
      "|       Lionel Messi|    4|\n",
      "|       Gerd MÃ¼ller|    3|\n",
      "|  Jean-Pierre Papin|    3|\n",
      "|            Eusebio|    3|\n",
      "|Ruud van Nistelrooy|    3|\n",
      "|     Allan Simonsen|    1|\n",
      "|     Ferenc PuskÃ¡s|    1|\n",
      "|Alfredo Di StÃ©fano|    1|\n",
      "|       Victor Sokol|    1|\n",
      "|     Paul Van Himst|    1|\n",
      "|         Mick Jones|    1|\n",
      "|      Jupp Heynckes|    1|\n",
      "|   Silvester TakaÄ|    1|\n",
      "|            Rivaldo|    1|\n",
      "|MiloÅ¡ MilutinoviÄ‡|    1|\n",
      "|      Ronald Koeman|    1|\n",
      "|  Andriy Shevchenko|    1|\n",
      "|            Romario|    1|\n",
      "|Borislav CvetkoviÄ‡|    1|\n",
      "+-------------------+-----+\n",
      "only showing top 20 rows\n",
      "\n"
     ]
    },
    {
     "name": "stderr",
     "output_type": "stream",
     "text": [
      "                                                                                \r"
     ]
    }
   ],
   "source": [
    "#Le joueur qui a le plus de fois été meilleur buteur en C1\n",
    "all_data.groupBy(\"Best Scorer\").count().sort('count', ascending = False).show()"
   ]
  },
  {
   "cell_type": "code",
   "execution_count": null,
   "metadata": {},
   "outputs": [],
   "source": []
  },
  {
   "cell_type": "code",
   "execution_count": null,
   "metadata": {},
   "outputs": [],
   "source": []
  },
  {
   "cell_type": "code",
   "execution_count": null,
   "metadata": {},
   "outputs": [],
   "source": []
  }
 ],
 "metadata": {
  "kernelspec": {
   "display_name": "Python 3 (ipykernel)",
   "language": "python",
   "name": "python3"
  },
  "language_info": {
   "codemirror_mode": {
    "name": "ipython",
    "version": 3
   },
   "file_extension": ".py",
   "mimetype": "text/x-python",
   "name": "python",
   "nbconvert_exporter": "python",
   "pygments_lexer": "ipython3",
   "version": "3.9.2"
  },
  "vscode": {
   "interpreter": {
    "hash": "29b11319cf0179cc51991dc5f7beb4e7e3226e80310d496f5a6837462b7b1381"
   }
  }
 },
 "nbformat": 4,
 "nbformat_minor": 4
}
