{
 "cells": [
  {
   "cell_type": "code",
   "execution_count": 1,
   "metadata": {},
   "outputs": [
    {
     "name": "stderr",
     "output_type": "stream",
     "text": [
      "22/11/15 22:03:47 WARN NativeCodeLoader: Unable to load native-hadoop library for your platform... using builtin-java classes where applicable\n",
      "Using Spark's default log4j profile: org/apache/spark/log4j-defaults.properties\n",
      "Setting default log level to \"WARN\".\n",
      "To adjust logging level use sc.setLogLevel(newLevel). For SparkR, use setLogLevel(newLevel).\n"
     ]
    }
   ],
   "source": [
    "import pyspark\n",
    "from pyspark.sql import SparkSession\n",
    "import os\n",
    "#from pyspark.mllib.regression import LabeledPoint\n",
    "#from pyspark.mllib.tree import DecisionTree\n",
    "#from pyspark import SparkConf, SparkContext\n",
    "#from numpy import array\n",
    "#sans se connecter au cluster\n",
    "#spark = SparkSession.builder.getOrCreate()\n",
    "\n",
    "spark = SparkSession.\\\n",
    "        builder.\\\n",
    "        appName(\"pyspark-notebook\").\\\n",
    "        master(\"spark://spark-master:7077\").\\\n",
    "        config(\"spark.executor.memory\", \"1g\").\\\n",
    "        getOrCreate()"
   ]
  },
  {
   "cell_type": "code",
   "execution_count": 2,
   "metadata": {},
   "outputs": [],
   "source": []
  },
  {
   "cell_type": "code",
   "execution_count": null,
   "metadata": {},
   "outputs": [],
   "source": [
    "#Créer un DataFrame en utilisant une instruction qui permet de charger le fichier csv BallonDOr\n",
    "BallonDOr=spark.read.format(\"csv\").options(header=True).load(path)\n",
    "BallonDOr.show()"
   ]
  },
  {
   "cell_type": "code",
   "execution_count": 2,
   "metadata": {},
   "outputs": [
    {
     "name": "stderr",
     "output_type": "stream",
     "text": [
      "                                                                                \r"
     ]
    }
   ],
   "source": [
    "#Créer un DataFrame en utilisant une instruction qui permet de charger le fichier csv BallonDOr\n",
    "BallonDOr=spark.read.csv('./foot/BallonDOr.csv',inferSchema=True, header=True)"
   ]
  },
  {
   "cell_type": "code",
   "execution_count": 3,
   "metadata": {},
   "outputs": [
    {
     "name": "stdout",
     "output_type": "stream",
     "text": [
      "+----+----+------------------+--------------------+------------+------+---+---+---+---+---+-----+-------+------+-------+------+\n",
      "|Year|Rank|            Player|                Club| Nationality|Points| P1| P2| P3| P4| P5|Votes|RankPts| Share|Percent| Voted|\n",
      "+----+----+------------------+--------------------+------------+------+---+---+---+---+---+-----+-------+------+-------+------+\n",
      "|1956|   1|  Stanley Matthews|           Blackpool|     England|    47|  6|  2|  2|  1|  1|   12|   50.0|0.1958| 0.5875|  0.75|\n",
      "|1956|   2|Alfredo Di Stéfano|      Real Madrid CF|       Spain|    44|  5|  3|  2|  0|  1|   11|   25.0|0.1833|   0.55|0.6875|\n",
      "|1956|   3|      Raymond Kopa|      Real Madrid CF|      France|    33|  1|  2|  3|  5|  1|   12|   16.7|0.1375| 0.4125|  0.75|\n",
      "|1956|   4|     Ferenc Puskás|              Honvéd|     Hungary|    32|  3|  3|  1|  1|  0|    8|   12.5|0.1333|    0.4|   0.5|\n",
      "|1956|   5|        Lev Yashin|       Dynamo Moskva|Soviet Union|    19|  0|  2|  2|  1|  3|    8|   10.0|0.0792| 0.2375|   0.5|\n",
      "|1956|   6|     József Bozsik|              Honvéd|     Hungary|    15|  0|  3|  1|  0|  0|    4|    8.3|0.0625| 0.1875|  0.25|\n",
      "|1956|   7|      Ernst Ocwirk|           Sampdoria|     Austria|     9|  0|  0|  2|  0|  3|    5|    7.1|0.0375| 0.1125|0.3125|\n",
      "|1956|   8|     Sándor Kocsis|              Honvéd|     Hungary|     6|  1|  0|  0|  0|  1|    2|    6.3| 0.025|  0.075| 0.125|\n",
      "|1956|   9|   Thadée Cisowski|   Racing Club Paris|      France|     4|  0|  1|  0|  0|  0|    1|    5.6|0.0167|   0.05|0.0625|\n",
      "|1956|   9|        Ivan Kolev|          CDNA Sofia|    Bulgaria|     4|  0|  0|  1|  0|  1|    2|    5.6|0.0167|   0.05| 0.125|\n",
      "|1956|   9|      Billy Wright|Wolverhampton Wan...|     England|     4|  0|  0|  1|  0|  1|    2|    5.6|0.0167|   0.05| 0.125|\n",
      "|1956|  12|           Julinho|          Fiorentina|       Italy|     3|  0|  0|  1|  0|  0|    1|    4.2|0.0125| 0.0375|0.0625|\n",
      "|1956|  13|    Stefan Bozhkov|          CDNA Sofia|    Bulgaria|     2|  0|  0|  0|  1|  0|    1|    3.8|0.0083|  0.025|0.0625|\n",
      "|1956|  13|    Duncan Edwards|   Manchester United|     England|     2|  0|  0|  0|  1|  0|    1|    3.8|0.0083|  0.025|0.0625|\n",
      "|1956|  13|   Gerhard Hanappi|          Rapid Wien|     Austria|     2|  0|  0|  0|  1|  0|    1|    3.8|0.0083|  0.025|0.0625|\n",
      "|1956|  13|    Robert Jonquet|      Stade de Reims|      France|     2|  0|  0|  0|  1|  0|    1|    3.8|0.0083|  0.025|0.0625|\n",
      "|1956|  13|   Miguel Montuori|          Fiorentina|       Italy|     2|  0|  0|  0|  1|  0|    1|    3.8|0.0083|  0.025|0.0625|\n",
      "|1956|  13|           Pepillo|             Sevilla|       Spain|     2|  0|  0|  0|  1|  0|    1|    3.8|0.0083|  0.025|0.0625|\n",
      "|1956|  13|   Juan Schiaffino|               Milan|       Italy|     2|  0|  0|  0|  1|  0|    1|    3.8|0.0083|  0.025|0.0625|\n",
      "|1956|  13|  Eduard Streltsov|      Torpedo Moscow|Soviet Union|     2|  0|  0|  0|  1|  0|    1|    3.8|0.0083|  0.025|0.0625|\n",
      "+----+----+------------------+--------------------+------------+------+---+---+---+---+---+-----+-------+------+-------+------+\n",
      "only showing top 20 rows\n",
      "\n"
     ]
    }
   ],
   "source": [
    "#Affichage du résultat du DataFrame BallonDOr\n",
    "BallonDOr.show()"
   ]
  },
  {
   "cell_type": "code",
   "execution_count": 4,
   "metadata": {},
   "outputs": [
    {
     "data": {
      "text/plain": [
       "DataFrame[Year: int, Rank: int, Player: string, Club: string, Nationality: string, Points: int, P1: int, P2: int, P3: int, P4: int, P5: int, Votes: int, RankPts: double, Share: double, Percent: double, Voted: double]"
      ]
     },
     "execution_count": 4,
     "metadata": {},
     "output_type": "execute_result"
    }
   ],
   "source": [
    "BallonDOr"
   ]
  },
  {
   "cell_type": "code",
   "execution_count": 5,
   "metadata": {},
   "outputs": [
    {
     "name": "stdout",
     "output_type": "stream",
     "text": [
      "root\n",
      " |-- Year: integer (nullable = true)\n",
      " |-- Rank: integer (nullable = true)\n",
      " |-- Player: string (nullable = true)\n",
      " |-- Club: string (nullable = true)\n",
      " |-- Nationality: string (nullable = true)\n",
      " |-- Points: integer (nullable = true)\n",
      " |-- P1: integer (nullable = true)\n",
      " |-- P2: integer (nullable = true)\n",
      " |-- P3: integer (nullable = true)\n",
      " |-- P4: integer (nullable = true)\n",
      " |-- P5: integer (nullable = true)\n",
      " |-- Votes: integer (nullable = true)\n",
      " |-- RankPts: double (nullable = true)\n",
      " |-- Share: double (nullable = true)\n",
      " |-- Percent: double (nullable = true)\n",
      " |-- Voted: double (nullable = true)\n",
      "\n"
     ]
    }
   ],
   "source": [
    "#Schema avec arborescence du DataFrame BallonDOr\n",
    "BallonDOr.printSchema()"
   ]
  },
  {
   "cell_type": "code",
   "execution_count": 6,
   "metadata": {},
   "outputs": [],
   "source": [
    "#Changer le nom de la colonne Year par Season\n",
    "BallonDOr=BallonDOr.withColumnRenamed(\"Year\",\"Season\")\n",
    "BallonDOr=BallonDOr.withColumnRenamed(\"Season\",\"Year\")"
   ]
  },
  {
   "cell_type": "code",
   "execution_count": 7,
   "metadata": {},
   "outputs": [
    {
     "name": "stdout",
     "output_type": "stream",
     "text": [
      "+----+----+------------------+--------------------+------------+------+---+---+---+---+---+-----+-------+------+-------+------+\n",
      "|Year|Rank|            Player|                Club| Nationality|Points| P1| P2| P3| P4| P5|Votes|RankPts| Share|Percent| Voted|\n",
      "+----+----+------------------+--------------------+------------+------+---+---+---+---+---+-----+-------+------+-------+------+\n",
      "|1956|   1|  Stanley Matthews|           Blackpool|     England|    47|  6|  2|  2|  1|  1|   12|   50.0|0.1958| 0.5875|  0.75|\n",
      "|1956|   2|Alfredo Di Stéfano|      Real Madrid CF|       Spain|    44|  5|  3|  2|  0|  1|   11|   25.0|0.1833|   0.55|0.6875|\n",
      "|1956|   3|      Raymond Kopa|      Real Madrid CF|      France|    33|  1|  2|  3|  5|  1|   12|   16.7|0.1375| 0.4125|  0.75|\n",
      "|1956|   4|     Ferenc Puskás|              Honvéd|     Hungary|    32|  3|  3|  1|  1|  0|    8|   12.5|0.1333|    0.4|   0.5|\n",
      "|1956|   5|        Lev Yashin|       Dynamo Moskva|Soviet Union|    19|  0|  2|  2|  1|  3|    8|   10.0|0.0792| 0.2375|   0.5|\n",
      "|1956|   6|     József Bozsik|              Honvéd|     Hungary|    15|  0|  3|  1|  0|  0|    4|    8.3|0.0625| 0.1875|  0.25|\n",
      "|1956|   7|      Ernst Ocwirk|           Sampdoria|     Austria|     9|  0|  0|  2|  0|  3|    5|    7.1|0.0375| 0.1125|0.3125|\n",
      "|1956|   8|     Sándor Kocsis|              Honvéd|     Hungary|     6|  1|  0|  0|  0|  1|    2|    6.3| 0.025|  0.075| 0.125|\n",
      "|1956|   9|   Thadée Cisowski|   Racing Club Paris|      France|     4|  0|  1|  0|  0|  0|    1|    5.6|0.0167|   0.05|0.0625|\n",
      "|1956|   9|        Ivan Kolev|          CDNA Sofia|    Bulgaria|     4|  0|  0|  1|  0|  1|    2|    5.6|0.0167|   0.05| 0.125|\n",
      "|1956|   9|      Billy Wright|Wolverhampton Wan...|     England|     4|  0|  0|  1|  0|  1|    2|    5.6|0.0167|   0.05| 0.125|\n",
      "|1956|  12|           Julinho|          Fiorentina|       Italy|     3|  0|  0|  1|  0|  0|    1|    4.2|0.0125| 0.0375|0.0625|\n",
      "|1956|  13|    Stefan Bozhkov|          CDNA Sofia|    Bulgaria|     2|  0|  0|  0|  1|  0|    1|    3.8|0.0083|  0.025|0.0625|\n",
      "|1956|  13|    Duncan Edwards|   Manchester United|     England|     2|  0|  0|  0|  1|  0|    1|    3.8|0.0083|  0.025|0.0625|\n",
      "|1956|  13|   Gerhard Hanappi|          Rapid Wien|     Austria|     2|  0|  0|  0|  1|  0|    1|    3.8|0.0083|  0.025|0.0625|\n",
      "|1956|  13|    Robert Jonquet|      Stade de Reims|      France|     2|  0|  0|  0|  1|  0|    1|    3.8|0.0083|  0.025|0.0625|\n",
      "|1956|  13|   Miguel Montuori|          Fiorentina|       Italy|     2|  0|  0|  0|  1|  0|    1|    3.8|0.0083|  0.025|0.0625|\n",
      "|1956|  13|           Pepillo|             Sevilla|       Spain|     2|  0|  0|  0|  1|  0|    1|    3.8|0.0083|  0.025|0.0625|\n",
      "|1956|  13|   Juan Schiaffino|               Milan|       Italy|     2|  0|  0|  0|  1|  0|    1|    3.8|0.0083|  0.025|0.0625|\n",
      "|1956|  13|  Eduard Streltsov|      Torpedo Moscow|Soviet Union|     2|  0|  0|  0|  1|  0|    1|    3.8|0.0083|  0.025|0.0625|\n",
      "+----+----+------------------+--------------------+------------+------+---+---+---+---+---+-----+-------+------+-------+------+\n",
      "only showing top 20 rows\n",
      "\n"
     ]
    }
   ],
   "source": [
    "BallonDOr.show()"
   ]
  },
  {
   "cell_type": "code",
   "execution_count": 8,
   "metadata": {},
   "outputs": [
    {
     "name": "stderr",
     "output_type": "stream",
     "text": [
      "                                                                                \r"
     ]
    }
   ],
   "source": [
    "#Créer un DataFrame en utilisant une instruction qui permet de charger le fichier csv champions_league\n",
    "champions_league=spark.read.csv('./foot/champions_league.csv',inferSchema=True, header=True)"
   ]
  },
  {
   "cell_type": "code",
   "execution_count": 9,
   "metadata": {},
   "outputs": [
    {
     "name": "stdout",
     "output_type": "stream",
     "text": [
      "+------+-----------------+--------------+------------+----------+----------------+---------+--------+--------+--------+----------+--------------+-----------------+-----------------+-----------------+-------------------+----------------+--------------------+----------+------------------+------------+--------------------+----+\n",
      "|Season|           Winner|Winner Country|Winner Score|  scorer 1|        scorer 2| scorer 3|scorer 4|scorer 5|scorer 6|  scorer 7|Finalist Score|opponent scorer 1|opponent scorer 2|opponent scorer 3|           Finalist|Finalist Country|               Venue|Attendance|   Meilleur Buteur| Pays buteur|         Club buteur|buts|\n",
      "+------+-----------------+--------------+------------+----------+----------------+---------+--------+--------+--------+----------+--------------+-----------------+-----------------+-----------------+-------------------+----------------+--------------------+----------+------------------+------------+--------------------+----+\n",
      "|  1956|      Real Madrid|         Spain|           4|Di Stefano|            Rial|Marquitos|    Rial|    null|    null|      null|             3|          Leblond|          Templin|          Hidalgo|     Stade de Reims|          France|France Parc des P...|    38,239| Miloš Milutinović|  Yugoslavia|FK Partizan Belgrade|   8|\n",
      "|  1957|      Real Madrid|         Spain|           2|Di Stefano|           Gento|     null|    null|    null|    null|      null|             0|             null|             null|             null|         Fiorentina|           Italy|Spain Santiago Be...|   124,000|    Dennis Viollet|     England|   Manchester United|   9|\n",
      "|  1958|      Real Madrid|         Spain|           3|Di Stefano|            Rial|    Gento|    null|    null|    null|      null|             2|       Schiaffino|           Grillo|             null|              Milan|           Italy|Belgium Heysel St...|    67,000|Alfredo Di Stéfano|       Spain|         Real Madrid|  10|\n",
      "|  1959|      Real Madrid|         Spain|           2|    Mateos|      Di Stefano|     null|    null|    null|    null|      null|             0|             null|             null|             null|     Stade de Reims|          France|West Germany Neck...|    72,000|     Just Fountain|      France|       Reims Stadium|  10|\n",
      "|  1960|      Real Madrid|         Spain|           7|Di Stefano|      Di Stefano|   Puskas|  Puskas|  Puskas|  Puskas|Di Stefano|             3|           Kreiss|            Stein|            Stein|Eintracht Frankfurt|    West Germany|Scotland Hampden ...|   127,621|     Ferenc Puskás|     Hungary|         Real Madrid|  12|\n",
      "|  1961|          Benfica|      Portugal|           3|     Aguas|Ramallets (o.g.)|   Coluna|    null|    null|    null|      null|             2|           Kocsis|           Czibor|             null|          Barcelona|           Spain|Switzerland Wankd...|    26,732|        José Águas|    Portugal|             Benfica|  11|\n",
      "|  1962|          Benfica|      Portugal|           5|     Aguas|           Cavem|   Coluna| Eusebio| Eusebio|    null|      null|             3|           Puskas|           Puskas|           Puskas|        Real Madrid|           Spain|Netherlands Olymp...|    61,257|      Heinz Strehl|West Germany|     1. FC Nuremberg|   8|\n",
      "|  1963|            Milan|         Italy|           2|  Altafini|        Altafini|     null|    null|    null|    null|      null|             1|          Eusebio|             null|             null|            Benfica|        Portugal|England Wembley S...|    45,715|     José Altafini|       Italy|            AC Milan|  14|\n",
      "|  1964|   Internazionale|         Italy|           3|   Mazzola|          Milani|  Mazzola|    null|    null|    null|      null|             1|             Felo|             null|             null|        Real Madrid|           Spain|Austria Prater St...|    71,333|Vladimir Kovačević|  Yugoslavia| FK Partizan Belg...|   7|\n",
      "|  1965|   Internazionale|         Italy|           1|      Jair|            null|     null|    null|    null|    null|      null|             0|             null|             null|             null|            Benfica|        Portugal|Italy San Siro, M...|    89,000|           Eusebio|    Portugal|             Benfica|   9|\n",
      "|  1966|      Real Madrid|         Spain|           2|   Amancio|          Serena|     null|    null|    null|    null|      null|             1|          Vasovic|             null|             null|           Partizan|      Yugoslavia|Belgium Heysel St...|    46,745|           Eusebio|    Portugal|             Benfica|   7|\n",
      "|  1967|           Celtic|      Scotland|           2|   Gemmell|        Chalmers|     null|    null|    null|    null|      null|             1|          Mazzola|             null|             null|     Internazionale|           Italy|Portugal Estádio ...|    45,000|    Paul Van Himst|     Belgium|      RSC Anderlecht|   6|\n",
      "|  1968|Manchester United|       England|           4|  Charlton|            Best|     Kidd|Charlton|    null|    null|      null|             1|            Graca|             null|             null|            Benfica|        Portugal|England Wembley S...|    92,225|           Eusebio|    Portugal|             Benfica|   6|\n",
      "|  1969|            Milan|         Italy|           3|     Prati|           Prati|  Sormani|   Prati|    null|    null|      null|             1|          Vasovic|             null|             null|               Ajax|     Netherlands|Spain Santiago Be...|    31,782|        Dennis Law|    Scotland|   Manchester United|   9|\n",
      "|  1970|        Feyenoord|   Netherlands|           2|    Israel|        Kindvall|     null|    null|    null|    null|      null|             1|          Gemmell|             null|             null|             Celtic|        Scotland|Italy San Siro, M...|    53,187|        Mick Jones|     England|        Leeds United|   8|\n",
      "|  1971|             Ajax|   Netherlands|           2|  van Dijk|            Haan|     null|    null|    null|    null|      null|             0|             null|             null|             null|      Panathinaikos|          Greece|England Wembley S...|    83,179|Antonis Antoniadis|      Greece|       Panathinaikos|  10|\n",
      "|  1972|             Ajax|   Netherlands|           2|    Cruyff|          Cruyff|     null|    null|    null|    null|      null|             0|             null|             null|             null|     Internazionale|           Italy|Netherlands De Ku...|    61,354|   Silvester Takač|  Yugoslavia|      Standard Liege|   5|\n",
      "|  1973|             Ajax|   Netherlands|           1|       Rep|            null|     null|    null|    null|    null|      null|             0|             null|             null|             null|           Juventus|           Italy|Socialist Federal...|    89,484|       Gerd Müller|West Germany|       Bayern Munich|  11|\n",
      "|  1974|    Bayern Munich|  West Germany|           4|   Hoeness|          Muller|  Hoeness|  Muller|    null|    null|      null|             0|             null|             null|             null|    Atlético Madrid|           Spain|Belgium Heysel St...|    72,047|       Gerd Müller|West Germany|       Bayern Munich|   8|\n",
      "|  1975|    Bayern Munich|  West Germany|           2|      Roth|          Muller|     null|    null|    null|    null|      null|             0|             null|             null|             null|       Leeds United|         England|France Parc des P...|    48,374|       Gerd Muller|West Germany|       Bayern Munich|   5|\n",
      "+------+-----------------+--------------+------------+----------+----------------+---------+--------+--------+--------+----------+--------------+-----------------+-----------------+-----------------+-------------------+----------------+--------------------+----------+------------------+------------+--------------------+----+\n",
      "only showing top 20 rows\n",
      "\n"
     ]
    }
   ],
   "source": [
    "#Affichage du résultat du DataFrame champions_league\n",
    "champions_league.show()"
   ]
  },
  {
   "cell_type": "code",
   "execution_count": 10,
   "metadata": {},
   "outputs": [
    {
     "data": {
      "text/plain": [
       "DataFrame[Season: int, Winner: string, Winner Country: string, Winner Score: int, scorer 1: string, scorer 2: string, scorer 3: string, scorer 4: string, scorer 5: string, scorer 6: string, scorer 7: string, Finalist Score: int, opponent scorer 1: string, opponent scorer 2: string, opponent scorer 3: string, Finalist: string, Finalist Country: string, Venue: string, Attendance: string, Meilleur Buteur: string, Pays buteur: string, Club buteur: string, buts: int]"
      ]
     },
     "execution_count": 10,
     "metadata": {},
     "output_type": "execute_result"
    }
   ],
   "source": [
    "champions_league"
   ]
  },
  {
   "cell_type": "code",
   "execution_count": 11,
   "metadata": {},
   "outputs": [
    {
     "name": "stdout",
     "output_type": "stream",
     "text": [
      "root\n",
      " |-- Season: integer (nullable = true)\n",
      " |-- Winner: string (nullable = true)\n",
      " |-- Winner Country: string (nullable = true)\n",
      " |-- Winner Score: integer (nullable = true)\n",
      " |-- scorer 1: string (nullable = true)\n",
      " |-- scorer 2: string (nullable = true)\n",
      " |-- scorer 3: string (nullable = true)\n",
      " |-- scorer 4: string (nullable = true)\n",
      " |-- scorer 5: string (nullable = true)\n",
      " |-- scorer 6: string (nullable = true)\n",
      " |-- scorer 7: string (nullable = true)\n",
      " |-- Finalist Score: integer (nullable = true)\n",
      " |-- opponent scorer 1: string (nullable = true)\n",
      " |-- opponent scorer 2: string (nullable = true)\n",
      " |-- opponent scorer 3: string (nullable = true)\n",
      " |-- Finalist: string (nullable = true)\n",
      " |-- Finalist Country: string (nullable = true)\n",
      " |-- Venue: string (nullable = true)\n",
      " |-- Attendance: string (nullable = true)\n",
      " |-- Meilleur Buteur: string (nullable = true)\n",
      " |-- Pays buteur: string (nullable = true)\n",
      " |-- Club buteur: string (nullable = true)\n",
      " |-- buts: integer (nullable = true)\n",
      "\n"
     ]
    }
   ],
   "source": [
    "#Schema avec arborescence du DataFrame champions_league\n",
    "champions_league.printSchema()"
   ]
  },
  {
   "cell_type": "code",
   "execution_count": 12,
   "metadata": {},
   "outputs": [
    {
     "ename": "NameError",
     "evalue": "name 'all_data' is not defined",
     "output_type": "error",
     "traceback": [
      "\u001b[0;31m---------------------------------------------------------------------------\u001b[0m",
      "\u001b[0;31mNameError\u001b[0m                                 Traceback (most recent call last)",
      "Cell \u001b[0;32mIn [12], line 1\u001b[0m\n\u001b[0;32m----> 1\u001b[0m \u001b[43mall_data\u001b[49m\u001b[38;5;241m.\u001b[39mwrite\u001b[38;5;241m.\u001b[39mcsv(\u001b[38;5;124m\"\u001b[39m\u001b[38;5;124mC:\u001b[39m\u001b[38;5;124m\\\u001b[39m\u001b[38;5;124mcours M1\u001b[39m\u001b[38;5;124m\\\u001b[39m\u001b[38;5;124mspark-docker\u001b[39m\u001b[38;5;124m\\\u001b[39m\u001b[38;5;124mspark-cluster\u001b[39m\u001b[38;5;124m\\\u001b[39m\u001b[38;5;124mpak\u001b[39m\u001b[38;5;130;01m\\f\u001b[39;00m\u001b[38;5;124moot\u001b[39m\u001b[38;5;124m\"\u001b[39m)\n",
      "\u001b[0;31mNameError\u001b[0m: name 'all_data' is not defined"
     ]
    }
   ],
   "source": [
    "all_data.write.csv(\"C:\\cours M1\\spark-docker\\spark-cluster\\pak\\foot\")"
   ]
  },
  {
   "cell_type": "code",
   "execution_count": null,
   "metadata": {},
   "outputs": [],
   "source": [
    "path='C:\\cours M1\\spark-docker\\spark-cluster\\pak\\foot'\n",
    "#Créer un Dataframe  résultat de la cocaténation des deux autres Dataframes avec pour nom 'all_data'\n",
    "all_data=BallonDOr.join(champions_league).distinct().show()"
   ]
  },
  {
   "cell_type": "code",
   "execution_count": null,
   "metadata": {},
   "outputs": [],
   "source": [
    "\n",
    "\n",
    "\n"
   ]
  },
  {
   "cell_type": "code",
   "execution_count": null,
   "metadata": {},
   "outputs": [],
   "source": [
    "all_data=BallonDOr.join(champions_league, BallonDOr.Year == champions_league.Season,\"inner\")\\\n",
    ".show(truncate=False)\n"
   ]
  },
  {
   "cell_type": "code",
   "execution_count": 13,
   "metadata": {},
   "outputs": [
    {
     "name": "stdout",
     "output_type": "stream",
     "text": [
      "+----+------------------+--------------------+------------+------+-------+------+-----------+--------------+------------+--------------+--------------+----------------+--------------------+----------+------------------+-----------+--------------------+----+\n",
      "|Rank|            Player|                Club| Nationality|Points|Percent|Season|     Winner|Winner Country|Winner Score|Finalist Score|      Finalist|Finalist Country|               Venue|Attendance|   Meilleur Buteur|Pays buteur|         Club buteur|buts|\n",
      "+----+------------------+--------------------+------------+------+-------+------+-----------+--------------+------------+--------------+--------------+----------------+--------------------+----------+------------------+-----------+--------------------+----+\n",
      "|   1|  Stanley Matthews|           Blackpool|     England|    47| 0.5875|  1956|Real Madrid|         Spain|           4|             3|Stade de Reims|          France|France Parc des P...|    38,239| Miloš Milutinović| Yugoslavia|FK Partizan Belgrade|   8|\n",
      "|   2|Alfredo Di Stéfano|      Real Madrid CF|       Spain|    44|   0.55|  1956|Real Madrid|         Spain|           4|             3|Stade de Reims|          France|France Parc des P...|    38,239| Miloš Milutinović| Yugoslavia|FK Partizan Belgrade|   8|\n",
      "|   3|      Raymond Kopa|      Real Madrid CF|      France|    33| 0.4125|  1956|Real Madrid|         Spain|           4|             3|Stade de Reims|          France|France Parc des P...|    38,239| Miloš Milutinović| Yugoslavia|FK Partizan Belgrade|   8|\n",
      "|   4|     Ferenc Puskás|              Honvéd|     Hungary|    32|    0.4|  1956|Real Madrid|         Spain|           4|             3|Stade de Reims|          France|France Parc des P...|    38,239| Miloš Milutinović| Yugoslavia|FK Partizan Belgrade|   8|\n",
      "|   5|        Lev Yashin|       Dynamo Moskva|Soviet Union|    19| 0.2375|  1956|Real Madrid|         Spain|           4|             3|Stade de Reims|          France|France Parc des P...|    38,239| Miloš Milutinović| Yugoslavia|FK Partizan Belgrade|   8|\n",
      "|   6|     József Bozsik|              Honvéd|     Hungary|    15| 0.1875|  1956|Real Madrid|         Spain|           4|             3|Stade de Reims|          France|France Parc des P...|    38,239| Miloš Milutinović| Yugoslavia|FK Partizan Belgrade|   8|\n",
      "|   7|      Ernst Ocwirk|           Sampdoria|     Austria|     9| 0.1125|  1956|Real Madrid|         Spain|           4|             3|Stade de Reims|          France|France Parc des P...|    38,239| Miloš Milutinović| Yugoslavia|FK Partizan Belgrade|   8|\n",
      "|   8|     Sándor Kocsis|              Honvéd|     Hungary|     6|  0.075|  1956|Real Madrid|         Spain|           4|             3|Stade de Reims|          France|France Parc des P...|    38,239| Miloš Milutinović| Yugoslavia|FK Partizan Belgrade|   8|\n",
      "|   9|   Thadée Cisowski|   Racing Club Paris|      France|     4|   0.05|  1956|Real Madrid|         Spain|           4|             3|Stade de Reims|          France|France Parc des P...|    38,239| Miloš Milutinović| Yugoslavia|FK Partizan Belgrade|   8|\n",
      "|   9|        Ivan Kolev|          CDNA Sofia|    Bulgaria|     4|   0.05|  1956|Real Madrid|         Spain|           4|             3|Stade de Reims|          France|France Parc des P...|    38,239| Miloš Milutinović| Yugoslavia|FK Partizan Belgrade|   8|\n",
      "|   9|      Billy Wright|Wolverhampton Wan...|     England|     4|   0.05|  1956|Real Madrid|         Spain|           4|             3|Stade de Reims|          France|France Parc des P...|    38,239| Miloš Milutinović| Yugoslavia|FK Partizan Belgrade|   8|\n",
      "|  12|           Julinho|          Fiorentina|       Italy|     3| 0.0375|  1956|Real Madrid|         Spain|           4|             3|Stade de Reims|          France|France Parc des P...|    38,239| Miloš Milutinović| Yugoslavia|FK Partizan Belgrade|   8|\n",
      "|  13|    Stefan Bozhkov|          CDNA Sofia|    Bulgaria|     2|  0.025|  1956|Real Madrid|         Spain|           4|             3|Stade de Reims|          France|France Parc des P...|    38,239| Miloš Milutinović| Yugoslavia|FK Partizan Belgrade|   8|\n",
      "|  13|    Duncan Edwards|   Manchester United|     England|     2|  0.025|  1956|Real Madrid|         Spain|           4|             3|Stade de Reims|          France|France Parc des P...|    38,239| Miloš Milutinović| Yugoslavia|FK Partizan Belgrade|   8|\n",
      "|  13|   Gerhard Hanappi|          Rapid Wien|     Austria|     2|  0.025|  1956|Real Madrid|         Spain|           4|             3|Stade de Reims|          France|France Parc des P...|    38,239| Miloš Milutinović| Yugoslavia|FK Partizan Belgrade|   8|\n",
      "|  13|    Robert Jonquet|      Stade de Reims|      France|     2|  0.025|  1956|Real Madrid|         Spain|           4|             3|Stade de Reims|          France|France Parc des P...|    38,239| Miloš Milutinović| Yugoslavia|FK Partizan Belgrade|   8|\n",
      "|  13|   Miguel Montuori|          Fiorentina|       Italy|     2|  0.025|  1956|Real Madrid|         Spain|           4|             3|Stade de Reims|          France|France Parc des P...|    38,239| Miloš Milutinović| Yugoslavia|FK Partizan Belgrade|   8|\n",
      "|  13|           Pepillo|             Sevilla|       Spain|     2|  0.025|  1956|Real Madrid|         Spain|           4|             3|Stade de Reims|          France|France Parc des P...|    38,239| Miloš Milutinović| Yugoslavia|FK Partizan Belgrade|   8|\n",
      "|  13|   Juan Schiaffino|               Milan|       Italy|     2|  0.025|  1956|Real Madrid|         Spain|           4|             3|Stade de Reims|          France|France Parc des P...|    38,239| Miloš Milutinović| Yugoslavia|FK Partizan Belgrade|   8|\n",
      "|  13|  Eduard Streltsov|      Torpedo Moscow|Soviet Union|     2|  0.025|  1956|Real Madrid|         Spain|           4|             3|Stade de Reims|          France|France Parc des P...|    38,239| Miloš Milutinović| Yugoslavia|FK Partizan Belgrade|   8|\n",
      "+----+------------------+--------------------+------------+------+-------+------+-----------+--------------+------------+--------------+--------------+----------------+--------------------+----------+------------------+-----------+--------------------+----+\n",
      "only showing top 20 rows\n",
      "\n"
     ]
    }
   ],
   "source": [
    "#supprimer des colonnes\n",
    "all_data=BallonDOr.join(champions_league, BallonDOr.Year == champions_league.Season,\"inner\")\\\n",
    ".drop(\"Year\",\"P1\",\"P2\",\"P3\",\"P4\",\"P5\",\"Votes\",'RankPts',\"Share\",\"Voted\",\"scorer 1\",\"scorer 2\",\"scorer 3\",\"scorer 4\",\"scorer 5\",\"scorer 6\",\"scorer 7\",\"opponent scorer 1\",\"opponent scorer 2\",\"opponent scorer 3\").show()\n",
    "\n"
   ]
  },
  {
   "cell_type": "code",
   "execution_count": 14,
   "metadata": {},
   "outputs": [
    {
     "name": "stderr",
     "output_type": "stream",
     "text": [
      "                                                                                \r"
     ]
    }
   ],
   "source": [
    "BallonDOr.join(champions_league, BallonDOr.Year == champions_league.Season,\"inner\")\\\n",
    ".drop(\"Year\",\"P1\",\"P2\",\"P3\",\"P4\",\"P5\",\"Votes\",'RankPts',\"Share\",\"Voted\",\"scorer 1\",\"scorer 2\",\"scorer 3\",\"scorer 4\",\"scorer 5\",\"scorer 6\",\"scorer 7\",\"opponent scorer 1\",\"opponent scorer 2\",\"opponent scorer 3\").write.csv(\"foot/all_data\")\n"
   ]
  },
  {
   "cell_type": "code",
   "execution_count": 15,
   "metadata": {},
   "outputs": [
    {
     "ename": "AttributeError",
     "evalue": "'NoneType' object has no attribute 'show'",
     "output_type": "error",
     "traceback": [
      "\u001b[0;31m---------------------------------------------------------------------------\u001b[0m",
      "\u001b[0;31mAttributeError\u001b[0m                            Traceback (most recent call last)",
      "Cell \u001b[0;32mIn [15], line 1\u001b[0m\n\u001b[0;32m----> 1\u001b[0m \u001b[43mall_data\u001b[49m\u001b[38;5;241;43m.\u001b[39;49m\u001b[43mshow\u001b[49m()\n",
      "\u001b[0;31mAttributeError\u001b[0m: 'NoneType' object has no attribute 'show'"
     ]
    }
   ],
   "source": [
    "all_data.show()"
   ]
  },
  {
   "cell_type": "code",
   "execution_count": null,
   "metadata": {},
   "outputs": [],
   "source": []
  },
  {
   "cell_type": "code",
   "execution_count": null,
   "metadata": {},
   "outputs": [],
   "source": []
  },
  {
   "cell_type": "code",
   "execution_count": null,
   "metadata": {},
   "outputs": [],
   "source": []
  },
  {
   "cell_type": "code",
   "execution_count": null,
   "metadata": {},
   "outputs": [],
   "source": [
    "\n"
   ]
  },
  {
   "cell_type": "code",
   "execution_count": null,
   "metadata": {},
   "outputs": [],
   "source": []
  },
  {
   "cell_type": "code",
   "execution_count": null,
   "metadata": {},
   "outputs": [],
   "source": []
  },
  {
   "cell_type": "code",
   "execution_count": null,
   "metadata": {},
   "outputs": [],
   "source": []
  }
 ],
 "metadata": {
  "kernelspec": {
   "display_name": "Python 3 (ipykernel)",
   "language": "python",
   "name": "python3"
  },
  "language_info": {
   "codemirror_mode": {
    "name": "ipython",
    "version": 3
   },
   "file_extension": ".py",
   "mimetype": "text/x-python",
   "name": "python",
   "nbconvert_exporter": "python",
   "pygments_lexer": "ipython3",
   "version": "3.9.2"
  },
  "vscode": {
   "interpreter": {
    "hash": "29b11319cf0179cc51991dc5f7beb4e7e3226e80310d496f5a6837462b7b1381"
   }
  }
 },
 "nbformat": 4,
 "nbformat_minor": 4
}
